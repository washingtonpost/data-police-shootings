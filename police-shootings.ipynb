{
 "cells": [
  {
   "cell_type": "code",
   "execution_count": 2,
   "metadata": {},
   "outputs": [
    {
     "data": {
      "text/plain": [
       "'c:\\\\Users\\\\thoma\\\\OneDrive\\\\Documents\\\\data_science\\\\Projects\\\\data-police-shootings'"
      ]
     },
     "execution_count": 2,
     "metadata": {},
     "output_type": "execute_result"
    }
   ],
   "source": [
    "import pandas as pd\n",
    "import numpy as np\n",
    "import plotly.express as px\n",
    "import plotly.graph_objects as go\n",
    "import plotly.io as pio\n",
    "import seaborn as sns\n",
    "import matplotlib as plt\n",
    "pio.templates.default = \"plotly_white\"\n",
    "px.set_mapbox_access_token(open('C:/Users/thoma/OneDrive/Documents/data_science/mapbox-token-tpm.txt').read())\n",
    "%pwd\n"
   ]
  },
  {
   "cell_type": "code",
   "execution_count": 3,
   "metadata": {},
   "outputs": [
    {
     "name": "stdout",
     "output_type": "stream",
     "text": [
      "<class 'pandas.core.frame.DataFrame'>\n",
      "RangeIndex: 8004 entries, 0 to 8003\n",
      "Data columns (total 19 columns):\n",
      " #   Column                      Non-Null Count  Dtype  \n",
      "---  ------                      --------------  -----  \n",
      " 0   id                          8004 non-null   int64  \n",
      " 1   date                        8004 non-null   object \n",
      " 2   threat_type                 8002 non-null   object \n",
      " 3   flee_status                 7038 non-null   object \n",
      " 4   armed_with                  7794 non-null   object \n",
      " 5   city                        8002 non-null   object \n",
      " 6   county                      3147 non-null   object \n",
      " 7   state                       8004 non-null   object \n",
      " 8   latitude                    7163 non-null   float64\n",
      " 9   longitude                   7163 non-null   float64\n",
      " 10  location_precision          7163 non-null   object \n",
      " 11  name                        7553 non-null   object \n",
      " 12  age                         7504 non-null   float64\n",
      " 13  gender                      7973 non-null   object \n",
      " 14  race                        7010 non-null   object \n",
      " 15  race_source                 7032 non-null   object \n",
      " 16  was_mental_illness_related  8004 non-null   bool   \n",
      " 17  body_camera                 8004 non-null   bool   \n",
      " 18  agency_ids                  8004 non-null   object \n",
      "dtypes: bool(2), float64(3), int64(1), object(13)\n",
      "memory usage: 1.1+ MB\n"
     ]
    }
   ],
   "source": [
    "df = pd.read_csv(\"v2/fatal-police-shootings-data.csv\")\n",
    "df.info()"
   ]
  },
  {
   "cell_type": "code",
   "execution_count": 4,
   "metadata": {},
   "outputs": [
    {
     "name": "stderr",
     "output_type": "stream",
     "text": [
      "C:\\Users\\thoma\\AppData\\Local\\Temp\\ipykernel_15196\\595545728.py:3: SettingWithCopyWarning: \n",
      "A value is trying to be set on a copy of a slice from a DataFrame\n",
      "\n",
      "See the caveats in the documentation: https://pandas.pydata.org/pandas-docs/stable/user_guide/indexing.html#returning-a-view-versus-a-copy\n",
      "  atx.race.replace({'H':'Hispanic','W':'White','B':'Black','A':'Asian'},inplace=True)\n"
     ]
    },
    {
     "data": {
      "text/html": [
       "<div>\n",
       "<style scoped>\n",
       "    .dataframe tbody tr th:only-of-type {\n",
       "        vertical-align: middle;\n",
       "    }\n",
       "\n",
       "    .dataframe tbody tr th {\n",
       "        vertical-align: top;\n",
       "    }\n",
       "\n",
       "    .dataframe thead th {\n",
       "        text-align: right;\n",
       "    }\n",
       "</style>\n",
       "<table border=\"1\" class=\"dataframe\">\n",
       "  <thead>\n",
       "    <tr style=\"text-align: right;\">\n",
       "      <th></th>\n",
       "      <th>id</th>\n",
       "      <th>date</th>\n",
       "      <th>threat_type</th>\n",
       "      <th>flee_status</th>\n",
       "      <th>armed_with</th>\n",
       "      <th>city</th>\n",
       "      <th>county</th>\n",
       "      <th>state</th>\n",
       "      <th>latitude</th>\n",
       "      <th>longitude</th>\n",
       "      <th>location_precision</th>\n",
       "      <th>name</th>\n",
       "      <th>age</th>\n",
       "      <th>gender</th>\n",
       "      <th>race</th>\n",
       "      <th>race_source</th>\n",
       "      <th>was_mental_illness_related</th>\n",
       "      <th>body_camera</th>\n",
       "      <th>agency_ids</th>\n",
       "    </tr>\n",
       "  </thead>\n",
       "  <tbody>\n",
       "    <tr>\n",
       "      <th>3085</th>\n",
       "      <td>3407</td>\n",
       "      <td>2018-02-19</td>\n",
       "      <td>point</td>\n",
       "      <td>other</td>\n",
       "      <td>gun</td>\n",
       "      <td>Austin</td>\n",
       "      <td>Travis</td>\n",
       "      <td>TX</td>\n",
       "      <td>30.197414</td>\n",
       "      <td>-97.736232</td>\n",
       "      <td>not_available</td>\n",
       "      <td>Thomas Vincent Alvarez</td>\n",
       "      <td>23.0</td>\n",
       "      <td>male</td>\n",
       "      <td>Hispanic</td>\n",
       "      <td>not_available</td>\n",
       "      <td>True</td>\n",
       "      <td>False</td>\n",
       "      <td>141</td>\n",
       "    </tr>\n",
       "    <tr>\n",
       "      <th>3136</th>\n",
       "      <td>3482</td>\n",
       "      <td>2018-03-07</td>\n",
       "      <td>threat</td>\n",
       "      <td>not</td>\n",
       "      <td>blunt_object</td>\n",
       "      <td>Austin</td>\n",
       "      <td>Travis</td>\n",
       "      <td>TX</td>\n",
       "      <td>30.272224</td>\n",
       "      <td>-97.688360</td>\n",
       "      <td>not_available</td>\n",
       "      <td>Victor Ancira</td>\n",
       "      <td>46.0</td>\n",
       "      <td>male</td>\n",
       "      <td>Hispanic</td>\n",
       "      <td>not_available</td>\n",
       "      <td>True</td>\n",
       "      <td>False</td>\n",
       "      <td>141</td>\n",
       "    </tr>\n",
       "    <tr>\n",
       "      <th>3197</th>\n",
       "      <td>3535</td>\n",
       "      <td>2018-03-25</td>\n",
       "      <td>shoot</td>\n",
       "      <td>not</td>\n",
       "      <td>gun</td>\n",
       "      <td>Austin</td>\n",
       "      <td>NaN</td>\n",
       "      <td>TX</td>\n",
       "      <td>30.197784</td>\n",
       "      <td>-97.756100</td>\n",
       "      <td>not_available</td>\n",
       "      <td>Hugo Alvarez</td>\n",
       "      <td>28.0</td>\n",
       "      <td>male</td>\n",
       "      <td>Hispanic</td>\n",
       "      <td>not_available</td>\n",
       "      <td>False</td>\n",
       "      <td>False</td>\n",
       "      <td>141</td>\n",
       "    </tr>\n",
       "    <tr>\n",
       "      <th>3412</th>\n",
       "      <td>3756</td>\n",
       "      <td>2018-06-07</td>\n",
       "      <td>threat</td>\n",
       "      <td>NaN</td>\n",
       "      <td>knife</td>\n",
       "      <td>Austin</td>\n",
       "      <td>Travis</td>\n",
       "      <td>TX</td>\n",
       "      <td>30.198148</td>\n",
       "      <td>-97.697699</td>\n",
       "      <td>not_available</td>\n",
       "      <td>Leslie Yolanda Salazar</td>\n",
       "      <td>20.0</td>\n",
       "      <td>female</td>\n",
       "      <td>White</td>\n",
       "      <td>not_available</td>\n",
       "      <td>False</td>\n",
       "      <td>True</td>\n",
       "      <td>141</td>\n",
       "    </tr>\n",
       "    <tr>\n",
       "      <th>3610</th>\n",
       "      <td>3975</td>\n",
       "      <td>2018-08-17</td>\n",
       "      <td>point</td>\n",
       "      <td>NaN</td>\n",
       "      <td>gun</td>\n",
       "      <td>Austin</td>\n",
       "      <td>NaN</td>\n",
       "      <td>TX</td>\n",
       "      <td>30.268066</td>\n",
       "      <td>-97.742813</td>\n",
       "      <td>not_available</td>\n",
       "      <td>Aquantis Jaymond Griffin</td>\n",
       "      <td>21.0</td>\n",
       "      <td>male</td>\n",
       "      <td>Black</td>\n",
       "      <td>not_available</td>\n",
       "      <td>False</td>\n",
       "      <td>False</td>\n",
       "      <td>141</td>\n",
       "    </tr>\n",
       "    <tr>\n",
       "      <th>4013</th>\n",
       "      <td>4425</td>\n",
       "      <td>2019-01-29</td>\n",
       "      <td>point</td>\n",
       "      <td>car</td>\n",
       "      <td>gun</td>\n",
       "      <td>Austin</td>\n",
       "      <td>NaN</td>\n",
       "      <td>TX</td>\n",
       "      <td>30.163188</td>\n",
       "      <td>-97.725781</td>\n",
       "      <td>not_available</td>\n",
       "      <td>Paul Cantu</td>\n",
       "      <td>27.0</td>\n",
       "      <td>male</td>\n",
       "      <td>Hispanic</td>\n",
       "      <td>not_available</td>\n",
       "      <td>True</td>\n",
       "      <td>True</td>\n",
       "      <td>141</td>\n",
       "    </tr>\n",
       "    <tr>\n",
       "      <th>4238</th>\n",
       "      <td>4685</td>\n",
       "      <td>2019-04-28</td>\n",
       "      <td>threat</td>\n",
       "      <td>not</td>\n",
       "      <td>gun</td>\n",
       "      <td>Austin</td>\n",
       "      <td>NaN</td>\n",
       "      <td>TX</td>\n",
       "      <td>30.352235</td>\n",
       "      <td>-97.795584</td>\n",
       "      <td>not_available</td>\n",
       "      <td>Carlos Manuel Dodero</td>\n",
       "      <td>45.0</td>\n",
       "      <td>male</td>\n",
       "      <td>Hispanic</td>\n",
       "      <td>not_available</td>\n",
       "      <td>True</td>\n",
       "      <td>True</td>\n",
       "      <td>141</td>\n",
       "    </tr>\n",
       "    <tr>\n",
       "      <th>4482</th>\n",
       "      <td>4923</td>\n",
       "      <td>2019-07-31</td>\n",
       "      <td>move</td>\n",
       "      <td>not</td>\n",
       "      <td>knife</td>\n",
       "      <td>Austin</td>\n",
       "      <td>NaN</td>\n",
       "      <td>TX</td>\n",
       "      <td>30.268561</td>\n",
       "      <td>-97.753804</td>\n",
       "      <td>not_available</td>\n",
       "      <td>Mauris Nishanga DeSilva</td>\n",
       "      <td>46.0</td>\n",
       "      <td>male</td>\n",
       "      <td>Asian</td>\n",
       "      <td>not_available</td>\n",
       "      <td>True</td>\n",
       "      <td>False</td>\n",
       "      <td>141</td>\n",
       "    </tr>\n",
       "    <tr>\n",
       "      <th>4629</th>\n",
       "      <td>5050</td>\n",
       "      <td>2019-09-22</td>\n",
       "      <td>shoot</td>\n",
       "      <td>not</td>\n",
       "      <td>gun</td>\n",
       "      <td>Austin</td>\n",
       "      <td>NaN</td>\n",
       "      <td>TX</td>\n",
       "      <td>30.329840</td>\n",
       "      <td>-97.678973</td>\n",
       "      <td>not_available</td>\n",
       "      <td>NaN</td>\n",
       "      <td>74.0</td>\n",
       "      <td>male</td>\n",
       "      <td>White</td>\n",
       "      <td>not_available</td>\n",
       "      <td>False</td>\n",
       "      <td>False</td>\n",
       "      <td>141</td>\n",
       "    </tr>\n",
       "    <tr>\n",
       "      <th>5240</th>\n",
       "      <td>5751</td>\n",
       "      <td>2020-04-24</td>\n",
       "      <td>undetermined</td>\n",
       "      <td>car</td>\n",
       "      <td>unarmed</td>\n",
       "      <td>Austin</td>\n",
       "      <td>NaN</td>\n",
       "      <td>TX</td>\n",
       "      <td>30.223472</td>\n",
       "      <td>-97.729545</td>\n",
       "      <td>not_available</td>\n",
       "      <td>Michael Ramos</td>\n",
       "      <td>42.0</td>\n",
       "      <td>male</td>\n",
       "      <td>Hispanic</td>\n",
       "      <td>not_available</td>\n",
       "      <td>False</td>\n",
       "      <td>True</td>\n",
       "      <td>141</td>\n",
       "    </tr>\n",
       "    <tr>\n",
       "      <th>5955</th>\n",
       "      <td>6679</td>\n",
       "      <td>2021-01-05</td>\n",
       "      <td>point</td>\n",
       "      <td>not</td>\n",
       "      <td>gun</td>\n",
       "      <td>Austin</td>\n",
       "      <td>NaN</td>\n",
       "      <td>TX</td>\n",
       "      <td>30.225021</td>\n",
       "      <td>-97.725880</td>\n",
       "      <td>not_available</td>\n",
       "      <td>Alexander Gonzales</td>\n",
       "      <td>27.0</td>\n",
       "      <td>male</td>\n",
       "      <td>Hispanic</td>\n",
       "      <td>not_available</td>\n",
       "      <td>False</td>\n",
       "      <td>True</td>\n",
       "      <td>141</td>\n",
       "    </tr>\n",
       "    <tr>\n",
       "      <th>6055</th>\n",
       "      <td>6595</td>\n",
       "      <td>2021-02-10</td>\n",
       "      <td>shoot</td>\n",
       "      <td>not</td>\n",
       "      <td>gun</td>\n",
       "      <td>Austin</td>\n",
       "      <td>NaN</td>\n",
       "      <td>TX</td>\n",
       "      <td>30.304544</td>\n",
       "      <td>-97.681274</td>\n",
       "      <td>not_available</td>\n",
       "      <td>Jordan Walton</td>\n",
       "      <td>21.0</td>\n",
       "      <td>male</td>\n",
       "      <td>Black</td>\n",
       "      <td>not_available</td>\n",
       "      <td>False</td>\n",
       "      <td>True</td>\n",
       "      <td>141</td>\n",
       "    </tr>\n",
       "    <tr>\n",
       "      <th>6818</th>\n",
       "      <td>7265</td>\n",
       "      <td>2021-10-27</td>\n",
       "      <td>shoot</td>\n",
       "      <td>not</td>\n",
       "      <td>gun</td>\n",
       "      <td>Austin</td>\n",
       "      <td>NaN</td>\n",
       "      <td>TX</td>\n",
       "      <td>30.190618</td>\n",
       "      <td>-97.886808</td>\n",
       "      <td>not_available</td>\n",
       "      <td>Robert Richart</td>\n",
       "      <td>56.0</td>\n",
       "      <td>male</td>\n",
       "      <td>NaN</td>\n",
       "      <td>NaN</td>\n",
       "      <td>True</td>\n",
       "      <td>True</td>\n",
       "      <td>141</td>\n",
       "    </tr>\n",
       "    <tr>\n",
       "      <th>7172</th>\n",
       "      <td>7781</td>\n",
       "      <td>2022-03-06</td>\n",
       "      <td>shoot</td>\n",
       "      <td>NaN</td>\n",
       "      <td>gun</td>\n",
       "      <td>Austin</td>\n",
       "      <td>NaN</td>\n",
       "      <td>TX</td>\n",
       "      <td>30.332505</td>\n",
       "      <td>-97.705225</td>\n",
       "      <td>not_available</td>\n",
       "      <td>Miguel Ruiz Rivera</td>\n",
       "      <td>28.0</td>\n",
       "      <td>male</td>\n",
       "      <td>NaN</td>\n",
       "      <td>NaN</td>\n",
       "      <td>False</td>\n",
       "      <td>True</td>\n",
       "      <td>141</td>\n",
       "    </tr>\n",
       "    <tr>\n",
       "      <th>7417</th>\n",
       "      <td>8063</td>\n",
       "      <td>2022-05-26</td>\n",
       "      <td>shoot</td>\n",
       "      <td>NaN</td>\n",
       "      <td>gun</td>\n",
       "      <td>Austin</td>\n",
       "      <td>NaN</td>\n",
       "      <td>TX</td>\n",
       "      <td>30.234239</td>\n",
       "      <td>-97.716000</td>\n",
       "      <td>not_available</td>\n",
       "      <td>Robert Hammitt</td>\n",
       "      <td>48.0</td>\n",
       "      <td>male</td>\n",
       "      <td>White</td>\n",
       "      <td>not_available</td>\n",
       "      <td>False</td>\n",
       "      <td>False</td>\n",
       "      <td>141</td>\n",
       "    </tr>\n",
       "    <tr>\n",
       "      <th>7472</th>\n",
       "      <td>8123</td>\n",
       "      <td>2022-06-12</td>\n",
       "      <td>threat</td>\n",
       "      <td>not</td>\n",
       "      <td>knife</td>\n",
       "      <td>Austin</td>\n",
       "      <td>NaN</td>\n",
       "      <td>TX</td>\n",
       "      <td>30.321218</td>\n",
       "      <td>-97.711923</td>\n",
       "      <td>not_available</td>\n",
       "      <td>Carlos Eli Chacon-Castillo</td>\n",
       "      <td>42.0</td>\n",
       "      <td>male</td>\n",
       "      <td>NaN</td>\n",
       "      <td>NaN</td>\n",
       "      <td>False</td>\n",
       "      <td>True</td>\n",
       "      <td>141</td>\n",
       "    </tr>\n",
       "    <tr>\n",
       "      <th>7478</th>\n",
       "      <td>8134</td>\n",
       "      <td>2022-06-14</td>\n",
       "      <td>undetermined</td>\n",
       "      <td>NaN</td>\n",
       "      <td>undetermined</td>\n",
       "      <td>Austin</td>\n",
       "      <td>NaN</td>\n",
       "      <td>TX</td>\n",
       "      <td>30.368548</td>\n",
       "      <td>-97.694425</td>\n",
       "      <td>not_available</td>\n",
       "      <td>Michael Christopher Carter</td>\n",
       "      <td>34.0</td>\n",
       "      <td>male</td>\n",
       "      <td>White</td>\n",
       "      <td>not_available</td>\n",
       "      <td>False</td>\n",
       "      <td>False</td>\n",
       "      <td>3492</td>\n",
       "    </tr>\n",
       "    <tr>\n",
       "      <th>7722</th>\n",
       "      <td>8684</td>\n",
       "      <td>2022-09-02</td>\n",
       "      <td>shoot</td>\n",
       "      <td>car</td>\n",
       "      <td>gun</td>\n",
       "      <td>Austin</td>\n",
       "      <td>NaN</td>\n",
       "      <td>TX</td>\n",
       "      <td>30.405121</td>\n",
       "      <td>-97.663901</td>\n",
       "      <td>not_available</td>\n",
       "      <td>Joshua Butler</td>\n",
       "      <td>44.0</td>\n",
       "      <td>male</td>\n",
       "      <td>NaN</td>\n",
       "      <td>NaN</td>\n",
       "      <td>False</td>\n",
       "      <td>False</td>\n",
       "      <td>3200</td>\n",
       "    </tr>\n",
       "    <tr>\n",
       "      <th>7785</th>\n",
       "      <td>8455</td>\n",
       "      <td>2022-09-23</td>\n",
       "      <td>threat</td>\n",
       "      <td>not</td>\n",
       "      <td>gun</td>\n",
       "      <td>Austin</td>\n",
       "      <td>NaN</td>\n",
       "      <td>TX</td>\n",
       "      <td>30.227891</td>\n",
       "      <td>-97.703363</td>\n",
       "      <td>not_available</td>\n",
       "      <td>Antonio Gonzales</td>\n",
       "      <td>29.0</td>\n",
       "      <td>male</td>\n",
       "      <td>Hispanic</td>\n",
       "      <td>not_available</td>\n",
       "      <td>True</td>\n",
       "      <td>False</td>\n",
       "      <td>141</td>\n",
       "    </tr>\n",
       "    <tr>\n",
       "      <th>7940</th>\n",
       "      <td>8595</td>\n",
       "      <td>2022-11-15</td>\n",
       "      <td>shoot</td>\n",
       "      <td>not</td>\n",
       "      <td>gun</td>\n",
       "      <td>Austin</td>\n",
       "      <td>NaN</td>\n",
       "      <td>TX</td>\n",
       "      <td>30.244151</td>\n",
       "      <td>-97.761640</td>\n",
       "      <td>not_available</td>\n",
       "      <td>Rajan David Moonesinghe</td>\n",
       "      <td>33.0</td>\n",
       "      <td>male</td>\n",
       "      <td>Asian</td>\n",
       "      <td>photo</td>\n",
       "      <td>False</td>\n",
       "      <td>False</td>\n",
       "      <td>141</td>\n",
       "    </tr>\n",
       "  </tbody>\n",
       "</table>\n",
       "</div>"
      ],
      "text/plain": [
       "        id        date   threat_type flee_status    armed_with    city  \\\n",
       "3085  3407  2018-02-19         point       other           gun  Austin   \n",
       "3136  3482  2018-03-07        threat         not  blunt_object  Austin   \n",
       "3197  3535  2018-03-25         shoot         not           gun  Austin   \n",
       "3412  3756  2018-06-07        threat         NaN         knife  Austin   \n",
       "3610  3975  2018-08-17         point         NaN           gun  Austin   \n",
       "4013  4425  2019-01-29         point         car           gun  Austin   \n",
       "4238  4685  2019-04-28        threat         not           gun  Austin   \n",
       "4482  4923  2019-07-31          move         not         knife  Austin   \n",
       "4629  5050  2019-09-22         shoot         not           gun  Austin   \n",
       "5240  5751  2020-04-24  undetermined         car       unarmed  Austin   \n",
       "5955  6679  2021-01-05         point         not           gun  Austin   \n",
       "6055  6595  2021-02-10         shoot         not           gun  Austin   \n",
       "6818  7265  2021-10-27         shoot         not           gun  Austin   \n",
       "7172  7781  2022-03-06         shoot         NaN           gun  Austin   \n",
       "7417  8063  2022-05-26         shoot         NaN           gun  Austin   \n",
       "7472  8123  2022-06-12        threat         not         knife  Austin   \n",
       "7478  8134  2022-06-14  undetermined         NaN  undetermined  Austin   \n",
       "7722  8684  2022-09-02         shoot         car           gun  Austin   \n",
       "7785  8455  2022-09-23        threat         not           gun  Austin   \n",
       "7940  8595  2022-11-15         shoot         not           gun  Austin   \n",
       "\n",
       "      county state   latitude  longitude location_precision  \\\n",
       "3085  Travis    TX  30.197414 -97.736232      not_available   \n",
       "3136  Travis    TX  30.272224 -97.688360      not_available   \n",
       "3197     NaN    TX  30.197784 -97.756100      not_available   \n",
       "3412  Travis    TX  30.198148 -97.697699      not_available   \n",
       "3610     NaN    TX  30.268066 -97.742813      not_available   \n",
       "4013     NaN    TX  30.163188 -97.725781      not_available   \n",
       "4238     NaN    TX  30.352235 -97.795584      not_available   \n",
       "4482     NaN    TX  30.268561 -97.753804      not_available   \n",
       "4629     NaN    TX  30.329840 -97.678973      not_available   \n",
       "5240     NaN    TX  30.223472 -97.729545      not_available   \n",
       "5955     NaN    TX  30.225021 -97.725880      not_available   \n",
       "6055     NaN    TX  30.304544 -97.681274      not_available   \n",
       "6818     NaN    TX  30.190618 -97.886808      not_available   \n",
       "7172     NaN    TX  30.332505 -97.705225      not_available   \n",
       "7417     NaN    TX  30.234239 -97.716000      not_available   \n",
       "7472     NaN    TX  30.321218 -97.711923      not_available   \n",
       "7478     NaN    TX  30.368548 -97.694425      not_available   \n",
       "7722     NaN    TX  30.405121 -97.663901      not_available   \n",
       "7785     NaN    TX  30.227891 -97.703363      not_available   \n",
       "7940     NaN    TX  30.244151 -97.761640      not_available   \n",
       "\n",
       "                            name   age  gender      race    race_source  \\\n",
       "3085      Thomas Vincent Alvarez  23.0    male  Hispanic  not_available   \n",
       "3136               Victor Ancira  46.0    male  Hispanic  not_available   \n",
       "3197                Hugo Alvarez  28.0    male  Hispanic  not_available   \n",
       "3412      Leslie Yolanda Salazar  20.0  female     White  not_available   \n",
       "3610    Aquantis Jaymond Griffin  21.0    male     Black  not_available   \n",
       "4013                  Paul Cantu  27.0    male  Hispanic  not_available   \n",
       "4238        Carlos Manuel Dodero  45.0    male  Hispanic  not_available   \n",
       "4482     Mauris Nishanga DeSilva  46.0    male     Asian  not_available   \n",
       "4629                         NaN  74.0    male     White  not_available   \n",
       "5240               Michael Ramos  42.0    male  Hispanic  not_available   \n",
       "5955          Alexander Gonzales  27.0    male  Hispanic  not_available   \n",
       "6055               Jordan Walton  21.0    male     Black  not_available   \n",
       "6818              Robert Richart  56.0    male       NaN            NaN   \n",
       "7172          Miguel Ruiz Rivera  28.0    male       NaN            NaN   \n",
       "7417              Robert Hammitt  48.0    male     White  not_available   \n",
       "7472  Carlos Eli Chacon-Castillo  42.0    male       NaN            NaN   \n",
       "7478  Michael Christopher Carter  34.0    male     White  not_available   \n",
       "7722               Joshua Butler  44.0    male       NaN            NaN   \n",
       "7785            Antonio Gonzales  29.0    male  Hispanic  not_available   \n",
       "7940     Rajan David Moonesinghe  33.0    male     Asian          photo   \n",
       "\n",
       "      was_mental_illness_related  body_camera agency_ids  \n",
       "3085                        True        False        141  \n",
       "3136                        True        False        141  \n",
       "3197                       False        False        141  \n",
       "3412                       False         True        141  \n",
       "3610                       False        False        141  \n",
       "4013                        True         True        141  \n",
       "4238                        True         True        141  \n",
       "4482                        True        False        141  \n",
       "4629                       False        False        141  \n",
       "5240                       False         True        141  \n",
       "5955                       False         True        141  \n",
       "6055                       False         True        141  \n",
       "6818                        True         True        141  \n",
       "7172                       False         True        141  \n",
       "7417                       False        False        141  \n",
       "7472                       False         True        141  \n",
       "7478                       False        False       3492  \n",
       "7722                       False        False       3200  \n",
       "7785                        True        False        141  \n",
       "7940                       False        False        141  "
      ]
     },
     "execution_count": 4,
     "metadata": {},
     "output_type": "execute_result"
    }
   ],
   "source": [
    "atx = df.loc[(df.city=='Austin') & (df.state=='TX')]\n",
    "# atx.threat_type = atx.threat_type.upper()\n",
    "atx.race.replace({'H':'Hispanic','W':'White','B':'Black','A':'Asian'},inplace=True)\n",
    "atx.tail(20)\n"
   ]
  },
  {
   "cell_type": "code",
   "execution_count": 5,
   "metadata": {},
   "outputs": [
    {
     "data": {
      "application/vnd.plotly.v1+json": {
       "config": {
        "displayModeBar": false,
        "plotlyServerURL": "https://plot.ly"
       },
       "data": [
        {
         "customdata": [
          [
           30.167126,
           -97.788524,
           "White",
           "2015-01-23",
           "point",
           true,
           "not",
           "gun"
          ],
          [
           30.243993,
           -97.89063,
           "White",
           "2015-02-08",
           "shoot",
           false,
           "not",
           "gun"
          ],
          [
           30.332257,
           -97.720787,
           "White",
           "2015-05-25",
           "point",
           true,
           "not",
           "gun"
          ],
          [
           30.269022,
           -97.740237,
           "White",
           "2015-07-05",
           "shoot",
           false,
           "foot",
           "gun"
          ],
          [
           30.380473,
           -97.701623,
           "White",
           "2015-07-05",
           "point",
           true,
           "not",
           "replica"
          ],
          [
           30.246799,
           -97.910238,
           "White",
           "2015-07-12",
           "point",
           false,
           "foot",
           "gun"
          ],
          [
           30.2700601,
           -97.7510993,
           "White",
           "2016-04-03",
           "shoot",
           false,
           "foot",
           "gun"
          ],
          [
           30.2207339,
           -97.8368958,
           "White",
           "2016-04-22",
           "attack",
           true,
           "not",
           "knife"
          ],
          [
           30.2281914,
           -97.8342828,
           "White",
           "2016-09-15",
           "shoot",
           false,
           "foot",
           "gun"
          ],
          [
           30.198358,
           -97.7892321,
           "White",
           "2016-10-16",
           "point",
           true,
           "not",
           "replica"
          ],
          [
           30.4453339,
           -97.8062206,
           "White",
           "2017-01-14",
           "shoot",
           false,
           "foot",
           "gun"
          ],
          [
           30.1981482,
           -97.6976992,
           "White",
           "2018-06-07",
           "threat",
           false,
           null,
           "knife"
          ],
          [
           30.32984,
           -97.678973,
           "White",
           "2019-09-22",
           "shoot",
           false,
           "not",
           "gun"
          ],
          [
           30.2342393,
           -97.716,
           "White",
           "2022-05-26",
           "shoot",
           false,
           null,
           "gun"
          ],
          [
           30.3685481,
           -97.6944251,
           "White",
           "2022-06-14",
           "undetermined",
           false,
           null,
           "undetermined"
          ]
         ],
         "hovertemplate": "<b>%{hovertext}</b><br><br>date=%{customdata[3]}<br>threat_type=%{customdata[4]}<br>was_mental_illness_related=%{customdata[5]}<br>flee_status=%{customdata[6]}<br>armed_with=%{customdata[7]}<extra></extra>",
         "hovertext": [
          "Robert Francis Mesch",
          "Sawyer Flache",
          "Cassandra Bolin",
          "Michael Holt",
          "Richard Munroe",
          "David Lepine",
          "Darrin Andrew Martin",
          "Tyler Hunkin",
          "Morgan Wayne Crocker Jr.",
          "Micah Dsheigh Jester",
          "Scott Laurance Gilpin",
          "Leslie Yolanda Salazar",
          null,
          "Robert Hammitt",
          "Michael Christopher Carter"
         ],
         "lat": [
          30.167126,
          30.243993,
          30.332257,
          30.269022,
          30.380473,
          30.246799,
          30.2700601,
          30.2207339,
          30.2281914,
          30.198358,
          30.4453339,
          30.1981482,
          30.32984,
          30.2342393,
          30.3685481
         ],
         "legendgroup": "White",
         "lon": [
          -97.788524,
          -97.89063,
          -97.720787,
          -97.740237,
          -97.701623,
          -97.910238,
          -97.7510993,
          -97.8368958,
          -97.8342828,
          -97.7892321,
          -97.8062206,
          -97.6976992,
          -97.678973,
          -97.716,
          -97.6944251
         ],
         "marker": {
          "color": "#636efa",
          "size": 12
         },
         "mode": "markers",
         "name": "White",
         "showlegend": true,
         "subplot": "mapbox",
         "type": "scattermapbox"
        },
        {
         "customdata": [
          [
           30.3962942,
           -97.6672871,
           "Black",
           "2016-02-08",
           "move",
           false,
           "not",
           "unarmed"
          ],
          [
           30.196568,
           -97.816376,
           "Black",
           "2017-02-22",
           "threat",
           true,
           "car",
           "knife"
          ],
          [
           30.2672824,
           -97.7390989,
           "Black",
           "2017-05-07",
           "shoot",
           false,
           "foot",
           "gun"
          ],
          [
           30.268066,
           -97.742813,
           "Black",
           "2018-08-17",
           "point",
           false,
           null,
           "gun"
          ],
          [
           30.3045438,
           -97.6812737,
           "Black",
           "2021-02-10",
           "shoot",
           false,
           "not",
           "gun"
          ]
         ],
         "hovertemplate": "<b>%{hovertext}</b><br><br>date=%{customdata[3]}<br>threat_type=%{customdata[4]}<br>was_mental_illness_related=%{customdata[5]}<br>flee_status=%{customdata[6]}<br>armed_with=%{customdata[7]}<extra></extra>",
         "hovertext": [
          "David Joseph",
          "Morgan London Rankins",
          "Landon Nobles",
          "Aquantis Jaymond Griffin",
          "Jordan Walton"
         ],
         "lat": [
          30.3962942,
          30.196568,
          30.2672824,
          30.268066,
          30.3045438
         ],
         "legendgroup": "Black",
         "lon": [
          -97.6672871,
          -97.816376,
          -97.7390989,
          -97.742813,
          -97.6812737
         ],
         "marker": {
          "color": "#EF553B",
          "size": 12
         },
         "mode": "markers",
         "name": "Black",
         "showlegend": true,
         "subplot": "mapbox",
         "type": "scattermapbox"
        },
        {
         "customdata": [
          [
           30.4345698,
           -97.7600148,
           "Hispanic",
           "2016-09-05",
           "threat",
           false,
           "not",
           "gun"
          ],
          [
           30.3722084,
           -97.6507371,
           "Hispanic",
           "2017-05-02",
           "threat",
           true,
           "not",
           "gun"
          ],
          [
           30.1974141,
           -97.7362318,
           "Hispanic",
           "2018-02-19",
           "point",
           true,
           "other",
           "gun"
          ],
          [
           30.2722242,
           -97.6883595,
           "Hispanic",
           "2018-03-07",
           "threat",
           true,
           "not",
           "blunt_object"
          ],
          [
           30.1977842,
           -97.7561,
           "Hispanic",
           "2018-03-25",
           "shoot",
           false,
           "not",
           "gun"
          ],
          [
           30.1631876,
           -97.7257815,
           "Hispanic",
           "2019-01-29",
           "point",
           true,
           "car",
           "gun"
          ],
          [
           30.3522346,
           -97.7955841,
           "Hispanic",
           "2019-04-28",
           "threat",
           true,
           "not",
           "gun"
          ],
          [
           30.2234716,
           -97.7295453,
           "Hispanic",
           "2020-04-24",
           "undetermined",
           false,
           "car",
           "unarmed"
          ],
          [
           30.2250206,
           -97.7258796,
           "Hispanic",
           "2021-01-05",
           "point",
           false,
           "not",
           "gun"
          ],
          [
           30.2278911,
           -97.7033628,
           "Hispanic",
           "2022-09-23",
           "threat",
           true,
           "not",
           "gun"
          ]
         ],
         "hovertemplate": "<b>%{hovertext}</b><br><br>date=%{customdata[3]}<br>threat_type=%{customdata[4]}<br>was_mental_illness_related=%{customdata[5]}<br>flee_status=%{customdata[6]}<br>armed_with=%{customdata[7]}<extra></extra>",
         "hovertext": [
          "Cesar Garcia",
          "Jason Sebastian Roque",
          "Thomas Vincent Alvarez",
          "Victor Ancira",
          "Hugo Alvarez",
          "Paul Cantu",
          "Carlos Manuel Dodero",
          "Michael Ramos",
          "Alexander Gonzales",
          "Antonio Gonzales"
         ],
         "lat": [
          30.4345698,
          30.3722084,
          30.1974141,
          30.2722242,
          30.1977842,
          30.1631876,
          30.3522346,
          30.2234716,
          30.2250206,
          30.2278911
         ],
         "legendgroup": "Hispanic",
         "lon": [
          -97.7600148,
          -97.6507371,
          -97.7362318,
          -97.6883595,
          -97.7561,
          -97.7257815,
          -97.7955841,
          -97.7295453,
          -97.7258796,
          -97.7033628
         ],
         "marker": {
          "color": "#00cc96",
          "size": 12
         },
         "mode": "markers",
         "name": "Hispanic",
         "showlegend": true,
         "subplot": "mapbox",
         "type": "scattermapbox"
        },
        {
         "customdata": [
          [
           30.2685609,
           -97.7538036,
           "Asian",
           "2019-07-31",
           "move",
           true,
           "not",
           "knife"
          ],
          [
           30.2441512,
           -97.7616402,
           "Asian",
           "2022-11-15",
           "shoot",
           false,
           "not",
           "gun"
          ]
         ],
         "hovertemplate": "<b>%{hovertext}</b><br><br>date=%{customdata[3]}<br>threat_type=%{customdata[4]}<br>was_mental_illness_related=%{customdata[5]}<br>flee_status=%{customdata[6]}<br>armed_with=%{customdata[7]}<extra></extra>",
         "hovertext": [
          "Mauris Nishanga DeSilva",
          "Rajan David Moonesinghe"
         ],
         "lat": [
          30.2685609,
          30.2441512
         ],
         "legendgroup": "Asian",
         "lon": [
          -97.7538036,
          -97.7616402
         ],
         "marker": {
          "color": "#ab63fa",
          "size": 12
         },
         "mode": "markers",
         "name": "Asian",
         "showlegend": true,
         "subplot": "mapbox",
         "type": "scattermapbox"
        }
       ],
       "layout": {
        "legend": {
         "title": {
          "text": "Race"
         },
         "tracegroupgap": 0,
         "x": 0.99,
         "xanchor": "right",
         "y": 0.95,
         "yanchor": "top"
        },
        "mapbox": {
         "accesstoken": "pk.eyJ1IjoidG1jYXVsZXkiLCJhIjoiY2wza2tncmZzMjJtcDNxcDZ5ZDBkMGNmciJ9.QXYubtefO-LDuz1XmcQ6eQ",
         "center": {
          "lat": 30.277612725000008,
          "lon": -97.74885037499999
         },
         "domain": {
          "x": [
           0,
           1
          ],
          "y": [
           0,
           1
          ]
         },
         "style": "streets",
         "zoom": 10.5
        },
        "margin": {
         "b": 10,
         "l": 10,
         "r": 10,
         "t": 10
        },
        "template": {
         "data": {
          "bar": [
           {
            "error_x": {
             "color": "#2a3f5f"
            },
            "error_y": {
             "color": "#2a3f5f"
            },
            "marker": {
             "line": {
              "color": "white",
              "width": 0.5
             },
             "pattern": {
              "fillmode": "overlay",
              "size": 10,
              "solidity": 0.2
             }
            },
            "type": "bar"
           }
          ],
          "barpolar": [
           {
            "marker": {
             "line": {
              "color": "white",
              "width": 0.5
             },
             "pattern": {
              "fillmode": "overlay",
              "size": 10,
              "solidity": 0.2
             }
            },
            "type": "barpolar"
           }
          ],
          "carpet": [
           {
            "aaxis": {
             "endlinecolor": "#2a3f5f",
             "gridcolor": "#C8D4E3",
             "linecolor": "#C8D4E3",
             "minorgridcolor": "#C8D4E3",
             "startlinecolor": "#2a3f5f"
            },
            "baxis": {
             "endlinecolor": "#2a3f5f",
             "gridcolor": "#C8D4E3",
             "linecolor": "#C8D4E3",
             "minorgridcolor": "#C8D4E3",
             "startlinecolor": "#2a3f5f"
            },
            "type": "carpet"
           }
          ],
          "choropleth": [
           {
            "colorbar": {
             "outlinewidth": 0,
             "ticks": ""
            },
            "type": "choropleth"
           }
          ],
          "contour": [
           {
            "colorbar": {
             "outlinewidth": 0,
             "ticks": ""
            },
            "colorscale": [
             [
              0,
              "#0d0887"
             ],
             [
              0.1111111111111111,
              "#46039f"
             ],
             [
              0.2222222222222222,
              "#7201a8"
             ],
             [
              0.3333333333333333,
              "#9c179e"
             ],
             [
              0.4444444444444444,
              "#bd3786"
             ],
             [
              0.5555555555555556,
              "#d8576b"
             ],
             [
              0.6666666666666666,
              "#ed7953"
             ],
             [
              0.7777777777777778,
              "#fb9f3a"
             ],
             [
              0.8888888888888888,
              "#fdca26"
             ],
             [
              1,
              "#f0f921"
             ]
            ],
            "type": "contour"
           }
          ],
          "contourcarpet": [
           {
            "colorbar": {
             "outlinewidth": 0,
             "ticks": ""
            },
            "type": "contourcarpet"
           }
          ],
          "heatmap": [
           {
            "colorbar": {
             "outlinewidth": 0,
             "ticks": ""
            },
            "colorscale": [
             [
              0,
              "#0d0887"
             ],
             [
              0.1111111111111111,
              "#46039f"
             ],
             [
              0.2222222222222222,
              "#7201a8"
             ],
             [
              0.3333333333333333,
              "#9c179e"
             ],
             [
              0.4444444444444444,
              "#bd3786"
             ],
             [
              0.5555555555555556,
              "#d8576b"
             ],
             [
              0.6666666666666666,
              "#ed7953"
             ],
             [
              0.7777777777777778,
              "#fb9f3a"
             ],
             [
              0.8888888888888888,
              "#fdca26"
             ],
             [
              1,
              "#f0f921"
             ]
            ],
            "type": "heatmap"
           }
          ],
          "heatmapgl": [
           {
            "colorbar": {
             "outlinewidth": 0,
             "ticks": ""
            },
            "colorscale": [
             [
              0,
              "#0d0887"
             ],
             [
              0.1111111111111111,
              "#46039f"
             ],
             [
              0.2222222222222222,
              "#7201a8"
             ],
             [
              0.3333333333333333,
              "#9c179e"
             ],
             [
              0.4444444444444444,
              "#bd3786"
             ],
             [
              0.5555555555555556,
              "#d8576b"
             ],
             [
              0.6666666666666666,
              "#ed7953"
             ],
             [
              0.7777777777777778,
              "#fb9f3a"
             ],
             [
              0.8888888888888888,
              "#fdca26"
             ],
             [
              1,
              "#f0f921"
             ]
            ],
            "type": "heatmapgl"
           }
          ],
          "histogram": [
           {
            "marker": {
             "pattern": {
              "fillmode": "overlay",
              "size": 10,
              "solidity": 0.2
             }
            },
            "type": "histogram"
           }
          ],
          "histogram2d": [
           {
            "colorbar": {
             "outlinewidth": 0,
             "ticks": ""
            },
            "colorscale": [
             [
              0,
              "#0d0887"
             ],
             [
              0.1111111111111111,
              "#46039f"
             ],
             [
              0.2222222222222222,
              "#7201a8"
             ],
             [
              0.3333333333333333,
              "#9c179e"
             ],
             [
              0.4444444444444444,
              "#bd3786"
             ],
             [
              0.5555555555555556,
              "#d8576b"
             ],
             [
              0.6666666666666666,
              "#ed7953"
             ],
             [
              0.7777777777777778,
              "#fb9f3a"
             ],
             [
              0.8888888888888888,
              "#fdca26"
             ],
             [
              1,
              "#f0f921"
             ]
            ],
            "type": "histogram2d"
           }
          ],
          "histogram2dcontour": [
           {
            "colorbar": {
             "outlinewidth": 0,
             "ticks": ""
            },
            "colorscale": [
             [
              0,
              "#0d0887"
             ],
             [
              0.1111111111111111,
              "#46039f"
             ],
             [
              0.2222222222222222,
              "#7201a8"
             ],
             [
              0.3333333333333333,
              "#9c179e"
             ],
             [
              0.4444444444444444,
              "#bd3786"
             ],
             [
              0.5555555555555556,
              "#d8576b"
             ],
             [
              0.6666666666666666,
              "#ed7953"
             ],
             [
              0.7777777777777778,
              "#fb9f3a"
             ],
             [
              0.8888888888888888,
              "#fdca26"
             ],
             [
              1,
              "#f0f921"
             ]
            ],
            "type": "histogram2dcontour"
           }
          ],
          "mesh3d": [
           {
            "colorbar": {
             "outlinewidth": 0,
             "ticks": ""
            },
            "type": "mesh3d"
           }
          ],
          "parcoords": [
           {
            "line": {
             "colorbar": {
              "outlinewidth": 0,
              "ticks": ""
             }
            },
            "type": "parcoords"
           }
          ],
          "pie": [
           {
            "automargin": true,
            "type": "pie"
           }
          ],
          "scatter": [
           {
            "fillpattern": {
             "fillmode": "overlay",
             "size": 10,
             "solidity": 0.2
            },
            "type": "scatter"
           }
          ],
          "scatter3d": [
           {
            "line": {
             "colorbar": {
              "outlinewidth": 0,
              "ticks": ""
             }
            },
            "marker": {
             "colorbar": {
              "outlinewidth": 0,
              "ticks": ""
             }
            },
            "type": "scatter3d"
           }
          ],
          "scattercarpet": [
           {
            "marker": {
             "colorbar": {
              "outlinewidth": 0,
              "ticks": ""
             }
            },
            "type": "scattercarpet"
           }
          ],
          "scattergeo": [
           {
            "marker": {
             "colorbar": {
              "outlinewidth": 0,
              "ticks": ""
             }
            },
            "type": "scattergeo"
           }
          ],
          "scattergl": [
           {
            "marker": {
             "colorbar": {
              "outlinewidth": 0,
              "ticks": ""
             }
            },
            "type": "scattergl"
           }
          ],
          "scattermapbox": [
           {
            "marker": {
             "colorbar": {
              "outlinewidth": 0,
              "ticks": ""
             }
            },
            "type": "scattermapbox"
           }
          ],
          "scatterpolar": [
           {
            "marker": {
             "colorbar": {
              "outlinewidth": 0,
              "ticks": ""
             }
            },
            "type": "scatterpolar"
           }
          ],
          "scatterpolargl": [
           {
            "marker": {
             "colorbar": {
              "outlinewidth": 0,
              "ticks": ""
             }
            },
            "type": "scatterpolargl"
           }
          ],
          "scatterternary": [
           {
            "marker": {
             "colorbar": {
              "outlinewidth": 0,
              "ticks": ""
             }
            },
            "type": "scatterternary"
           }
          ],
          "surface": [
           {
            "colorbar": {
             "outlinewidth": 0,
             "ticks": ""
            },
            "colorscale": [
             [
              0,
              "#0d0887"
             ],
             [
              0.1111111111111111,
              "#46039f"
             ],
             [
              0.2222222222222222,
              "#7201a8"
             ],
             [
              0.3333333333333333,
              "#9c179e"
             ],
             [
              0.4444444444444444,
              "#bd3786"
             ],
             [
              0.5555555555555556,
              "#d8576b"
             ],
             [
              0.6666666666666666,
              "#ed7953"
             ],
             [
              0.7777777777777778,
              "#fb9f3a"
             ],
             [
              0.8888888888888888,
              "#fdca26"
             ],
             [
              1,
              "#f0f921"
             ]
            ],
            "type": "surface"
           }
          ],
          "table": [
           {
            "cells": {
             "fill": {
              "color": "#EBF0F8"
             },
             "line": {
              "color": "white"
             }
            },
            "header": {
             "fill": {
              "color": "#C8D4E3"
             },
             "line": {
              "color": "white"
             }
            },
            "type": "table"
           }
          ]
         },
         "layout": {
          "annotationdefaults": {
           "arrowcolor": "#2a3f5f",
           "arrowhead": 0,
           "arrowwidth": 1
          },
          "autotypenumbers": "strict",
          "coloraxis": {
           "colorbar": {
            "outlinewidth": 0,
            "ticks": ""
           }
          },
          "colorscale": {
           "diverging": [
            [
             0,
             "#8e0152"
            ],
            [
             0.1,
             "#c51b7d"
            ],
            [
             0.2,
             "#de77ae"
            ],
            [
             0.3,
             "#f1b6da"
            ],
            [
             0.4,
             "#fde0ef"
            ],
            [
             0.5,
             "#f7f7f7"
            ],
            [
             0.6,
             "#e6f5d0"
            ],
            [
             0.7,
             "#b8e186"
            ],
            [
             0.8,
             "#7fbc41"
            ],
            [
             0.9,
             "#4d9221"
            ],
            [
             1,
             "#276419"
            ]
           ],
           "sequential": [
            [
             0,
             "#0d0887"
            ],
            [
             0.1111111111111111,
             "#46039f"
            ],
            [
             0.2222222222222222,
             "#7201a8"
            ],
            [
             0.3333333333333333,
             "#9c179e"
            ],
            [
             0.4444444444444444,
             "#bd3786"
            ],
            [
             0.5555555555555556,
             "#d8576b"
            ],
            [
             0.6666666666666666,
             "#ed7953"
            ],
            [
             0.7777777777777778,
             "#fb9f3a"
            ],
            [
             0.8888888888888888,
             "#fdca26"
            ],
            [
             1,
             "#f0f921"
            ]
           ],
           "sequentialminus": [
            [
             0,
             "#0d0887"
            ],
            [
             0.1111111111111111,
             "#46039f"
            ],
            [
             0.2222222222222222,
             "#7201a8"
            ],
            [
             0.3333333333333333,
             "#9c179e"
            ],
            [
             0.4444444444444444,
             "#bd3786"
            ],
            [
             0.5555555555555556,
             "#d8576b"
            ],
            [
             0.6666666666666666,
             "#ed7953"
            ],
            [
             0.7777777777777778,
             "#fb9f3a"
            ],
            [
             0.8888888888888888,
             "#fdca26"
            ],
            [
             1,
             "#f0f921"
            ]
           ]
          },
          "colorway": [
           "#636efa",
           "#EF553B",
           "#00cc96",
           "#ab63fa",
           "#FFA15A",
           "#19d3f3",
           "#FF6692",
           "#B6E880",
           "#FF97FF",
           "#FECB52"
          ],
          "font": {
           "color": "#2a3f5f"
          },
          "geo": {
           "bgcolor": "white",
           "lakecolor": "white",
           "landcolor": "white",
           "showlakes": true,
           "showland": true,
           "subunitcolor": "#C8D4E3"
          },
          "hoverlabel": {
           "align": "left"
          },
          "hovermode": "closest",
          "mapbox": {
           "style": "light"
          },
          "paper_bgcolor": "white",
          "plot_bgcolor": "white",
          "polar": {
           "angularaxis": {
            "gridcolor": "#EBF0F8",
            "linecolor": "#EBF0F8",
            "ticks": ""
           },
           "bgcolor": "white",
           "radialaxis": {
            "gridcolor": "#EBF0F8",
            "linecolor": "#EBF0F8",
            "ticks": ""
           }
          },
          "scene": {
           "xaxis": {
            "backgroundcolor": "white",
            "gridcolor": "#DFE8F3",
            "gridwidth": 2,
            "linecolor": "#EBF0F8",
            "showbackground": true,
            "ticks": "",
            "zerolinecolor": "#EBF0F8"
           },
           "yaxis": {
            "backgroundcolor": "white",
            "gridcolor": "#DFE8F3",
            "gridwidth": 2,
            "linecolor": "#EBF0F8",
            "showbackground": true,
            "ticks": "",
            "zerolinecolor": "#EBF0F8"
           },
           "zaxis": {
            "backgroundcolor": "white",
            "gridcolor": "#DFE8F3",
            "gridwidth": 2,
            "linecolor": "#EBF0F8",
            "showbackground": true,
            "ticks": "",
            "zerolinecolor": "#EBF0F8"
           }
          },
          "shapedefaults": {
           "line": {
            "color": "#2a3f5f"
           }
          },
          "ternary": {
           "aaxis": {
            "gridcolor": "#DFE8F3",
            "linecolor": "#A2B1C6",
            "ticks": ""
           },
           "baxis": {
            "gridcolor": "#DFE8F3",
            "linecolor": "#A2B1C6",
            "ticks": ""
           },
           "bgcolor": "white",
           "caxis": {
            "gridcolor": "#DFE8F3",
            "linecolor": "#A2B1C6",
            "ticks": ""
           }
          },
          "title": {
           "x": 0.05
          },
          "xaxis": {
           "automargin": true,
           "gridcolor": "#EBF0F8",
           "linecolor": "#EBF0F8",
           "ticks": "",
           "title": {
            "standoff": 15
           },
           "zerolinecolor": "#EBF0F8",
           "zerolinewidth": 2
          },
          "yaxis": {
           "automargin": true,
           "gridcolor": "#EBF0F8",
           "linecolor": "#EBF0F8",
           "ticks": "",
           "title": {
            "standoff": 15
           },
           "zerolinecolor": "#EBF0F8",
           "zerolinewidth": 2
          }
         }
        }
       }
      }
     },
     "metadata": {},
     "output_type": "display_data"
    }
   ],
   "source": [
    "fig = px.scatter_mapbox(atx, lat=atx.latitude, lon=atx.longitude, color=atx.race, mapbox_style='streets', hover_name='name', zoom=10.5,\n",
    "                        hover_data={'latitude': False, 'longitude': False, 'race': False, 'date': True, 'threat_type': True, 'was_mental_illness_related':True, 'flee_status':True,'armed_with':True})\n",
    "\n",
    "fig.update_layout(margin=dict(t=10,b=10,l=10,r=10), legend=dict(title='Race', xanchor='right', x=.99, yanchor='top', y=.95))\n",
    "fig.update_traces(marker=dict(size=12))\n",
    "fig.show(config={'displayModeBar': False})\n",
    "\n",
    "fig.write_html('charts/map.html',config={'displaylogo':False})"
   ]
  },
  {
   "cell_type": "code",
   "execution_count": 17,
   "metadata": {},
   "outputs": [
    {
     "name": "stderr",
     "output_type": "stream",
     "text": [
      "C:\\Users\\thoma\\AppData\\Local\\Temp\\ipykernel_4360\\4014024489.py:1: SettingWithCopyWarning:\n",
      "\n",
      "\n",
      "A value is trying to be set on a copy of a slice from a DataFrame.\n",
      "Try using .loc[row_indexer,col_indexer] = value instead\n",
      "\n",
      "See the caveats in the documentation: https://pandas.pydata.org/pandas-docs/stable/user_guide/indexing.html#returning-a-view-versus-a-copy\n",
      "\n",
      "C:\\Users\\thoma\\AppData\\Local\\Temp\\ipykernel_4360\\4014024489.py:2: SettingWithCopyWarning:\n",
      "\n",
      "\n",
      "A value is trying to be set on a copy of a slice from a DataFrame.\n",
      "Try using .loc[row_indexer,col_indexer] = value instead\n",
      "\n",
      "See the caveats in the documentation: https://pandas.pydata.org/pandas-docs/stable/user_guide/indexing.html#returning-a-view-versus-a-copy\n",
      "\n"
     ]
    },
    {
     "data": {
      "application/vnd.plotly.v1+json": {
       "config": {
        "displaylogo": false,
        "plotlyServerURL": "https://plot.ly"
       },
       "data": [
        {
         "customdata": [
          [
           "Robert Francis Mesch",
           true
          ],
          [
           "Sawyer Flache",
           false
          ],
          [
           "Cassandra Bolin",
           true
          ],
          [
           "Michael Holt",
           false
          ],
          [
           "Richard Munroe",
           true
          ],
          [
           "David Lepine",
           false
          ],
          [
           "David Joseph",
           false
          ],
          [
           "Darrin Andrew Martin",
           false
          ],
          [
           "Tyler Hunkin",
           true
          ],
          [
           "Cesar Garcia",
           false
          ],
          [
           "Morgan Wayne Crocker Jr.",
           false
          ],
          [
           "Micah Dsheigh Jester",
           true
          ],
          [
           "Scott Laurance Gilpin",
           false
          ],
          [
           "Morgan London Rankins",
           true
          ],
          [
           "Jason Sebastian Roque",
           true
          ],
          [
           "Landon Nobles",
           false
          ],
          [
           "Thomas Vincent Alvarez",
           true
          ],
          [
           "Victor Ancira",
           true
          ],
          [
           "Hugo Alvarez",
           false
          ],
          [
           "Leslie Yolanda Salazar",
           false
          ],
          [
           "Aquantis Jaymond Griffin",
           false
          ],
          [
           "Paul Cantu",
           true
          ],
          [
           "Carlos Manuel Dodero",
           true
          ],
          [
           "Mauris Nishanga DeSilva",
           true
          ],
          [
           null,
           false
          ],
          [
           "Michael Ramos",
           false
          ],
          [
           "Alexander Gonzales",
           false
          ],
          [
           "Jordan Walton",
           false
          ],
          [
           "Robert Richart",
           true
          ],
          [
           "Miguel Ruiz Rivera",
           false
          ],
          [
           "Robert Hammitt",
           false
          ],
          [
           "Carlos Eli Chacon-Castillo",
           false
          ],
          [
           "Michael Christopher Carter",
           false
          ],
          [
           "Joshua Butler",
           false
          ],
          [
           "Antonio Gonzales",
           true
          ],
          [
           "Rajan David Moonesinghe",
           false
          ]
         ],
         "fill": "tozeroy",
         "hovertemplate": "<b>%{customdata[0]}</b><br>Count of Killings: %{y}<br>During Mental Crisis: %{customdata[1]}",
         "hovertext": [
          "Robert Francis Mesch",
          "Sawyer Flache",
          "Cassandra Bolin",
          "Michael Holt",
          "Richard Munroe",
          "David Lepine",
          "David Joseph",
          "Darrin Andrew Martin",
          "Tyler Hunkin",
          "Cesar Garcia",
          "Morgan Wayne Crocker Jr.",
          "Micah Dsheigh Jester",
          "Scott Laurance Gilpin",
          "Morgan London Rankins",
          "Jason Sebastian Roque",
          "Landon Nobles",
          "Thomas Vincent Alvarez",
          "Victor Ancira",
          "Hugo Alvarez",
          "Leslie Yolanda Salazar",
          "Aquantis Jaymond Griffin",
          "Paul Cantu",
          "Carlos Manuel Dodero",
          "Mauris Nishanga DeSilva",
          null,
          "Michael Ramos",
          "Alexander Gonzales",
          "Jordan Walton",
          "Robert Richart",
          "Miguel Ruiz Rivera",
          "Robert Hammitt",
          "Carlos Eli Chacon-Castillo",
          "Michael Christopher Carter",
          "Joshua Butler",
          "Antonio Gonzales",
          "Rajan David Moonesinghe"
         ],
         "legendgroup": "",
         "marker": {
          "color": "#636efa",
          "symbol": "circle"
         },
         "mode": "markers",
         "name": "",
         "orientation": "v",
         "showlegend": false,
         "type": "scatter",
         "x": [
          "2015-01-23T00:00:00",
          "2015-02-08T00:00:00",
          "2015-05-25T00:00:00",
          "2015-07-05T00:00:00",
          "2015-07-05T00:00:00",
          "2015-07-12T00:00:00",
          "2016-02-08T00:00:00",
          "2016-04-03T00:00:00",
          "2016-04-22T00:00:00",
          "2016-09-05T00:00:00",
          "2016-09-15T00:00:00",
          "2016-10-16T00:00:00",
          "2017-01-14T00:00:00",
          "2017-02-22T00:00:00",
          "2017-05-02T00:00:00",
          "2017-05-07T00:00:00",
          "2018-02-19T00:00:00",
          "2018-03-07T00:00:00",
          "2018-03-25T00:00:00",
          "2018-06-07T00:00:00",
          "2018-08-17T00:00:00",
          "2019-01-29T00:00:00",
          "2019-04-28T00:00:00",
          "2019-07-31T00:00:00",
          "2019-09-22T00:00:00",
          "2020-04-24T00:00:00",
          "2021-01-05T00:00:00",
          "2021-02-10T00:00:00",
          "2021-10-27T00:00:00",
          "2022-03-06T00:00:00",
          "2022-05-26T00:00:00",
          "2022-06-12T00:00:00",
          "2022-06-14T00:00:00",
          "2022-09-02T00:00:00",
          "2022-09-23T00:00:00",
          "2022-11-15T00:00:00"
         ],
         "xaxis": "x",
         "y": [
          1,
          2,
          3,
          4,
          5,
          6,
          7,
          8,
          9,
          10,
          11,
          12,
          13,
          14,
          15,
          16,
          17,
          18,
          19,
          20,
          21,
          22,
          23,
          24,
          25,
          26,
          27,
          28,
          29,
          30,
          31,
          32,
          33,
          34,
          35,
          36
         ],
         "yaxis": "y"
        }
       ],
       "layout": {
        "hovermode": "x unified",
        "legend": {
         "title": {
          "text": "Mental Health Incident?"
         },
         "tracegroupgap": 0,
         "x": 0.05,
         "xanchor": "left"
        },
        "margin": {
         "t": 60
        },
        "template": {
         "data": {
          "bar": [
           {
            "error_x": {
             "color": "#2a3f5f"
            },
            "error_y": {
             "color": "#2a3f5f"
            },
            "marker": {
             "line": {
              "color": "white",
              "width": 0.5
             },
             "pattern": {
              "fillmode": "overlay",
              "size": 10,
              "solidity": 0.2
             }
            },
            "type": "bar"
           }
          ],
          "barpolar": [
           {
            "marker": {
             "line": {
              "color": "white",
              "width": 0.5
             },
             "pattern": {
              "fillmode": "overlay",
              "size": 10,
              "solidity": 0.2
             }
            },
            "type": "barpolar"
           }
          ],
          "carpet": [
           {
            "aaxis": {
             "endlinecolor": "#2a3f5f",
             "gridcolor": "#C8D4E3",
             "linecolor": "#C8D4E3",
             "minorgridcolor": "#C8D4E3",
             "startlinecolor": "#2a3f5f"
            },
            "baxis": {
             "endlinecolor": "#2a3f5f",
             "gridcolor": "#C8D4E3",
             "linecolor": "#C8D4E3",
             "minorgridcolor": "#C8D4E3",
             "startlinecolor": "#2a3f5f"
            },
            "type": "carpet"
           }
          ],
          "choropleth": [
           {
            "colorbar": {
             "outlinewidth": 0,
             "ticks": ""
            },
            "type": "choropleth"
           }
          ],
          "contour": [
           {
            "colorbar": {
             "outlinewidth": 0,
             "ticks": ""
            },
            "colorscale": [
             [
              0,
              "#0d0887"
             ],
             [
              0.1111111111111111,
              "#46039f"
             ],
             [
              0.2222222222222222,
              "#7201a8"
             ],
             [
              0.3333333333333333,
              "#9c179e"
             ],
             [
              0.4444444444444444,
              "#bd3786"
             ],
             [
              0.5555555555555556,
              "#d8576b"
             ],
             [
              0.6666666666666666,
              "#ed7953"
             ],
             [
              0.7777777777777778,
              "#fb9f3a"
             ],
             [
              0.8888888888888888,
              "#fdca26"
             ],
             [
              1,
              "#f0f921"
             ]
            ],
            "type": "contour"
           }
          ],
          "contourcarpet": [
           {
            "colorbar": {
             "outlinewidth": 0,
             "ticks": ""
            },
            "type": "contourcarpet"
           }
          ],
          "heatmap": [
           {
            "colorbar": {
             "outlinewidth": 0,
             "ticks": ""
            },
            "colorscale": [
             [
              0,
              "#0d0887"
             ],
             [
              0.1111111111111111,
              "#46039f"
             ],
             [
              0.2222222222222222,
              "#7201a8"
             ],
             [
              0.3333333333333333,
              "#9c179e"
             ],
             [
              0.4444444444444444,
              "#bd3786"
             ],
             [
              0.5555555555555556,
              "#d8576b"
             ],
             [
              0.6666666666666666,
              "#ed7953"
             ],
             [
              0.7777777777777778,
              "#fb9f3a"
             ],
             [
              0.8888888888888888,
              "#fdca26"
             ],
             [
              1,
              "#f0f921"
             ]
            ],
            "type": "heatmap"
           }
          ],
          "heatmapgl": [
           {
            "colorbar": {
             "outlinewidth": 0,
             "ticks": ""
            },
            "colorscale": [
             [
              0,
              "#0d0887"
             ],
             [
              0.1111111111111111,
              "#46039f"
             ],
             [
              0.2222222222222222,
              "#7201a8"
             ],
             [
              0.3333333333333333,
              "#9c179e"
             ],
             [
              0.4444444444444444,
              "#bd3786"
             ],
             [
              0.5555555555555556,
              "#d8576b"
             ],
             [
              0.6666666666666666,
              "#ed7953"
             ],
             [
              0.7777777777777778,
              "#fb9f3a"
             ],
             [
              0.8888888888888888,
              "#fdca26"
             ],
             [
              1,
              "#f0f921"
             ]
            ],
            "type": "heatmapgl"
           }
          ],
          "histogram": [
           {
            "marker": {
             "pattern": {
              "fillmode": "overlay",
              "size": 10,
              "solidity": 0.2
             }
            },
            "type": "histogram"
           }
          ],
          "histogram2d": [
           {
            "colorbar": {
             "outlinewidth": 0,
             "ticks": ""
            },
            "colorscale": [
             [
              0,
              "#0d0887"
             ],
             [
              0.1111111111111111,
              "#46039f"
             ],
             [
              0.2222222222222222,
              "#7201a8"
             ],
             [
              0.3333333333333333,
              "#9c179e"
             ],
             [
              0.4444444444444444,
              "#bd3786"
             ],
             [
              0.5555555555555556,
              "#d8576b"
             ],
             [
              0.6666666666666666,
              "#ed7953"
             ],
             [
              0.7777777777777778,
              "#fb9f3a"
             ],
             [
              0.8888888888888888,
              "#fdca26"
             ],
             [
              1,
              "#f0f921"
             ]
            ],
            "type": "histogram2d"
           }
          ],
          "histogram2dcontour": [
           {
            "colorbar": {
             "outlinewidth": 0,
             "ticks": ""
            },
            "colorscale": [
             [
              0,
              "#0d0887"
             ],
             [
              0.1111111111111111,
              "#46039f"
             ],
             [
              0.2222222222222222,
              "#7201a8"
             ],
             [
              0.3333333333333333,
              "#9c179e"
             ],
             [
              0.4444444444444444,
              "#bd3786"
             ],
             [
              0.5555555555555556,
              "#d8576b"
             ],
             [
              0.6666666666666666,
              "#ed7953"
             ],
             [
              0.7777777777777778,
              "#fb9f3a"
             ],
             [
              0.8888888888888888,
              "#fdca26"
             ],
             [
              1,
              "#f0f921"
             ]
            ],
            "type": "histogram2dcontour"
           }
          ],
          "mesh3d": [
           {
            "colorbar": {
             "outlinewidth": 0,
             "ticks": ""
            },
            "type": "mesh3d"
           }
          ],
          "parcoords": [
           {
            "line": {
             "colorbar": {
              "outlinewidth": 0,
              "ticks": ""
             }
            },
            "type": "parcoords"
           }
          ],
          "pie": [
           {
            "automargin": true,
            "type": "pie"
           }
          ],
          "scatter": [
           {
            "fillpattern": {
             "fillmode": "overlay",
             "size": 10,
             "solidity": 0.2
            },
            "type": "scatter"
           }
          ],
          "scatter3d": [
           {
            "line": {
             "colorbar": {
              "outlinewidth": 0,
              "ticks": ""
             }
            },
            "marker": {
             "colorbar": {
              "outlinewidth": 0,
              "ticks": ""
             }
            },
            "type": "scatter3d"
           }
          ],
          "scattercarpet": [
           {
            "marker": {
             "colorbar": {
              "outlinewidth": 0,
              "ticks": ""
             }
            },
            "type": "scattercarpet"
           }
          ],
          "scattergeo": [
           {
            "marker": {
             "colorbar": {
              "outlinewidth": 0,
              "ticks": ""
             }
            },
            "type": "scattergeo"
           }
          ],
          "scattergl": [
           {
            "marker": {
             "colorbar": {
              "outlinewidth": 0,
              "ticks": ""
             }
            },
            "type": "scattergl"
           }
          ],
          "scattermapbox": [
           {
            "marker": {
             "colorbar": {
              "outlinewidth": 0,
              "ticks": ""
             }
            },
            "type": "scattermapbox"
           }
          ],
          "scatterpolar": [
           {
            "marker": {
             "colorbar": {
              "outlinewidth": 0,
              "ticks": ""
             }
            },
            "type": "scatterpolar"
           }
          ],
          "scatterpolargl": [
           {
            "marker": {
             "colorbar": {
              "outlinewidth": 0,
              "ticks": ""
             }
            },
            "type": "scatterpolargl"
           }
          ],
          "scatterternary": [
           {
            "marker": {
             "colorbar": {
              "outlinewidth": 0,
              "ticks": ""
             }
            },
            "type": "scatterternary"
           }
          ],
          "surface": [
           {
            "colorbar": {
             "outlinewidth": 0,
             "ticks": ""
            },
            "colorscale": [
             [
              0,
              "#0d0887"
             ],
             [
              0.1111111111111111,
              "#46039f"
             ],
             [
              0.2222222222222222,
              "#7201a8"
             ],
             [
              0.3333333333333333,
              "#9c179e"
             ],
             [
              0.4444444444444444,
              "#bd3786"
             ],
             [
              0.5555555555555556,
              "#d8576b"
             ],
             [
              0.6666666666666666,
              "#ed7953"
             ],
             [
              0.7777777777777778,
              "#fb9f3a"
             ],
             [
              0.8888888888888888,
              "#fdca26"
             ],
             [
              1,
              "#f0f921"
             ]
            ],
            "type": "surface"
           }
          ],
          "table": [
           {
            "cells": {
             "fill": {
              "color": "#EBF0F8"
             },
             "line": {
              "color": "white"
             }
            },
            "header": {
             "fill": {
              "color": "#C8D4E3"
             },
             "line": {
              "color": "white"
             }
            },
            "type": "table"
           }
          ]
         },
         "layout": {
          "annotationdefaults": {
           "arrowcolor": "#2a3f5f",
           "arrowhead": 0,
           "arrowwidth": 1
          },
          "autotypenumbers": "strict",
          "coloraxis": {
           "colorbar": {
            "outlinewidth": 0,
            "ticks": ""
           }
          },
          "colorscale": {
           "diverging": [
            [
             0,
             "#8e0152"
            ],
            [
             0.1,
             "#c51b7d"
            ],
            [
             0.2,
             "#de77ae"
            ],
            [
             0.3,
             "#f1b6da"
            ],
            [
             0.4,
             "#fde0ef"
            ],
            [
             0.5,
             "#f7f7f7"
            ],
            [
             0.6,
             "#e6f5d0"
            ],
            [
             0.7,
             "#b8e186"
            ],
            [
             0.8,
             "#7fbc41"
            ],
            [
             0.9,
             "#4d9221"
            ],
            [
             1,
             "#276419"
            ]
           ],
           "sequential": [
            [
             0,
             "#0d0887"
            ],
            [
             0.1111111111111111,
             "#46039f"
            ],
            [
             0.2222222222222222,
             "#7201a8"
            ],
            [
             0.3333333333333333,
             "#9c179e"
            ],
            [
             0.4444444444444444,
             "#bd3786"
            ],
            [
             0.5555555555555556,
             "#d8576b"
            ],
            [
             0.6666666666666666,
             "#ed7953"
            ],
            [
             0.7777777777777778,
             "#fb9f3a"
            ],
            [
             0.8888888888888888,
             "#fdca26"
            ],
            [
             1,
             "#f0f921"
            ]
           ],
           "sequentialminus": [
            [
             0,
             "#0d0887"
            ],
            [
             0.1111111111111111,
             "#46039f"
            ],
            [
             0.2222222222222222,
             "#7201a8"
            ],
            [
             0.3333333333333333,
             "#9c179e"
            ],
            [
             0.4444444444444444,
             "#bd3786"
            ],
            [
             0.5555555555555556,
             "#d8576b"
            ],
            [
             0.6666666666666666,
             "#ed7953"
            ],
            [
             0.7777777777777778,
             "#fb9f3a"
            ],
            [
             0.8888888888888888,
             "#fdca26"
            ],
            [
             1,
             "#f0f921"
            ]
           ]
          },
          "colorway": [
           "#636efa",
           "#EF553B",
           "#00cc96",
           "#ab63fa",
           "#FFA15A",
           "#19d3f3",
           "#FF6692",
           "#B6E880",
           "#FF97FF",
           "#FECB52"
          ],
          "font": {
           "color": "#2a3f5f"
          },
          "geo": {
           "bgcolor": "white",
           "lakecolor": "white",
           "landcolor": "white",
           "showlakes": true,
           "showland": true,
           "subunitcolor": "#C8D4E3"
          },
          "hoverlabel": {
           "align": "left"
          },
          "hovermode": "closest",
          "mapbox": {
           "style": "light"
          },
          "paper_bgcolor": "white",
          "plot_bgcolor": "white",
          "polar": {
           "angularaxis": {
            "gridcolor": "#EBF0F8",
            "linecolor": "#EBF0F8",
            "ticks": ""
           },
           "bgcolor": "white",
           "radialaxis": {
            "gridcolor": "#EBF0F8",
            "linecolor": "#EBF0F8",
            "ticks": ""
           }
          },
          "scene": {
           "xaxis": {
            "backgroundcolor": "white",
            "gridcolor": "#DFE8F3",
            "gridwidth": 2,
            "linecolor": "#EBF0F8",
            "showbackground": true,
            "ticks": "",
            "zerolinecolor": "#EBF0F8"
           },
           "yaxis": {
            "backgroundcolor": "white",
            "gridcolor": "#DFE8F3",
            "gridwidth": 2,
            "linecolor": "#EBF0F8",
            "showbackground": true,
            "ticks": "",
            "zerolinecolor": "#EBF0F8"
           },
           "zaxis": {
            "backgroundcolor": "white",
            "gridcolor": "#DFE8F3",
            "gridwidth": 2,
            "linecolor": "#EBF0F8",
            "showbackground": true,
            "ticks": "",
            "zerolinecolor": "#EBF0F8"
           }
          },
          "shapedefaults": {
           "line": {
            "color": "#2a3f5f"
           }
          },
          "ternary": {
           "aaxis": {
            "gridcolor": "#DFE8F3",
            "linecolor": "#A2B1C6",
            "ticks": ""
           },
           "baxis": {
            "gridcolor": "#DFE8F3",
            "linecolor": "#A2B1C6",
            "ticks": ""
           },
           "bgcolor": "white",
           "caxis": {
            "gridcolor": "#DFE8F3",
            "linecolor": "#A2B1C6",
            "ticks": ""
           }
          },
          "title": {
           "x": 0.05
          },
          "xaxis": {
           "automargin": true,
           "gridcolor": "#EBF0F8",
           "linecolor": "#EBF0F8",
           "ticks": "",
           "title": {
            "standoff": 15
           },
           "zerolinecolor": "#EBF0F8",
           "zerolinewidth": 2
          },
          "yaxis": {
           "automargin": true,
           "gridcolor": "#EBF0F8",
           "linecolor": "#EBF0F8",
           "ticks": "",
           "title": {
            "standoff": 15
           },
           "zerolinecolor": "#EBF0F8",
           "zerolinewidth": 2
          }
         }
        },
        "xaxis": {
         "anchor": "y",
         "domain": [
          0,
          1
         ]
        },
        "yaxis": {
         "anchor": "x",
         "domain": [
          0,
          1
         ],
         "title": {
          "text": "Total Police Killings Since 2015"
         }
        }
       }
      }
     },
     "metadata": {},
     "output_type": "display_data"
    }
   ],
   "source": [
    "atx.date = pd.to_datetime(atx.date)\n",
    "atx['incident_number'] = atx.reset_index().index + 1\n",
    "\n",
    "fig_scatter = px.scatter(atx, 'date', 'incident_number', hover_name='name', hover_data={'date': False, 'incident_number': False, 'was_mental_illness_related': False}, labels={\n",
    "                         'incident_number': 'Total Police Killings Since 2015', 'date': None}, custom_data=['name','was_mental_illness_related'])\n",
    "fig_scatter.update_layout(hovermode='x unified',\n",
    "                          legend=dict(title='Mental Health Incident?', xanchor='left', x=.05),\n",
    "                        )\n",
    "fig_scatter.update_traces(fill='tozeroy', hovertemplate='<b>%{customdata[0]}</b><br>Count of Killings: %{y}<br>During Mental Crisis: %{customdata[1]}')\n",
    "\n",
    "fig_scatter.show(config={'displaylogo': False})\n",
    "# fig_scatter.write_html('charts/Austinkillings.html',config={'displaylogo':False})\n"
   ]
  },
  {
   "cell_type": "code",
   "execution_count": 6,
   "metadata": {},
   "outputs": [
    {
     "data": {
      "text/html": [
       "<div>\n",
       "<style scoped>\n",
       "    .dataframe tbody tr th:only-of-type {\n",
       "        vertical-align: middle;\n",
       "    }\n",
       "\n",
       "    .dataframe tbody tr th {\n",
       "        vertical-align: top;\n",
       "    }\n",
       "\n",
       "    .dataframe thead th {\n",
       "        text-align: right;\n",
       "    }\n",
       "</style>\n",
       "<table border=\"1\" class=\"dataframe\">\n",
       "  <thead>\n",
       "    <tr style=\"text-align: right;\">\n",
       "      <th></th>\n",
       "      <th>id</th>\n",
       "      <th>date</th>\n",
       "      <th>threat_type</th>\n",
       "      <th>flee_status</th>\n",
       "      <th>armed_with</th>\n",
       "      <th>city</th>\n",
       "      <th>county</th>\n",
       "      <th>state</th>\n",
       "      <th>latitude</th>\n",
       "      <th>longitude</th>\n",
       "      <th>location_precision</th>\n",
       "      <th>name</th>\n",
       "      <th>age</th>\n",
       "      <th>gender</th>\n",
       "      <th>race</th>\n",
       "      <th>race_source</th>\n",
       "      <th>was_mental_illness_related</th>\n",
       "      <th>body_camera</th>\n",
       "      <th>agency_ids</th>\n",
       "    </tr>\n",
       "  </thead>\n",
       "  <tbody>\n",
       "    <tr>\n",
       "      <th>7999</th>\n",
       "      <td>8710</td>\n",
       "      <td>2022-12-05</td>\n",
       "      <td>point</td>\n",
       "      <td>foot</td>\n",
       "      <td>gun</td>\n",
       "      <td>St. Paul</td>\n",
       "      <td>Ramsey</td>\n",
       "      <td>MN</td>\n",
       "      <td>44.952233</td>\n",
       "      <td>-93.055722</td>\n",
       "      <td>road</td>\n",
       "      <td>NaN</td>\n",
       "      <td>NaN</td>\n",
       "      <td>male</td>\n",
       "      <td>NaN</td>\n",
       "      <td>NaN</td>\n",
       "      <td>False</td>\n",
       "      <td>False</td>\n",
       "      <td>63</td>\n",
       "    </tr>\n",
       "    <tr>\n",
       "      <th>8000</th>\n",
       "      <td>8711</td>\n",
       "      <td>2022-12-05</td>\n",
       "      <td>shoot</td>\n",
       "      <td>foot</td>\n",
       "      <td>gun</td>\n",
       "      <td>Memphis</td>\n",
       "      <td>Shelby</td>\n",
       "      <td>TN</td>\n",
       "      <td>35.051632</td>\n",
       "      <td>-89.923620</td>\n",
       "      <td>block</td>\n",
       "      <td>James West Jr.</td>\n",
       "      <td>39.0</td>\n",
       "      <td>male</td>\n",
       "      <td>NaN</td>\n",
       "      <td>NaN</td>\n",
       "      <td>False</td>\n",
       "      <td>False</td>\n",
       "      <td>31</td>\n",
       "    </tr>\n",
       "    <tr>\n",
       "      <th>8001</th>\n",
       "      <td>8712</td>\n",
       "      <td>2022-12-05</td>\n",
       "      <td>attack</td>\n",
       "      <td>NaN</td>\n",
       "      <td>blunt_object</td>\n",
       "      <td>Seeley</td>\n",
       "      <td>Imperial</td>\n",
       "      <td>CA</td>\n",
       "      <td>32.793524</td>\n",
       "      <td>-115.686035</td>\n",
       "      <td>block</td>\n",
       "      <td>NaN</td>\n",
       "      <td>NaN</td>\n",
       "      <td>NaN</td>\n",
       "      <td>NaN</td>\n",
       "      <td>NaN</td>\n",
       "      <td>False</td>\n",
       "      <td>False</td>\n",
       "      <td>2610</td>\n",
       "    </tr>\n",
       "    <tr>\n",
       "      <th>8002</th>\n",
       "      <td>8713</td>\n",
       "      <td>2022-12-06</td>\n",
       "      <td>shoot</td>\n",
       "      <td>NaN</td>\n",
       "      <td>gun</td>\n",
       "      <td>Woodsboro</td>\n",
       "      <td>Refugio</td>\n",
       "      <td>TX</td>\n",
       "      <td>28.239974</td>\n",
       "      <td>-97.323763</td>\n",
       "      <td>intersection</td>\n",
       "      <td>Franco Miguel Anzaldua</td>\n",
       "      <td>24.0</td>\n",
       "      <td>male</td>\n",
       "      <td>NaN</td>\n",
       "      <td>NaN</td>\n",
       "      <td>True</td>\n",
       "      <td>False</td>\n",
       "      <td>2780</td>\n",
       "    </tr>\n",
       "    <tr>\n",
       "      <th>8003</th>\n",
       "      <td>8714</td>\n",
       "      <td>2022-12-06</td>\n",
       "      <td>flee</td>\n",
       "      <td>foot</td>\n",
       "      <td>undetermined</td>\n",
       "      <td>Fresno</td>\n",
       "      <td>Fresno</td>\n",
       "      <td>CA</td>\n",
       "      <td>36.750656</td>\n",
       "      <td>-119.640391</td>\n",
       "      <td>block</td>\n",
       "      <td>NaN</td>\n",
       "      <td>NaN</td>\n",
       "      <td>male</td>\n",
       "      <td>NaN</td>\n",
       "      <td>NaN</td>\n",
       "      <td>False</td>\n",
       "      <td>False</td>\n",
       "      <td>598</td>\n",
       "    </tr>\n",
       "  </tbody>\n",
       "</table>\n",
       "</div>"
      ],
      "text/plain": [
       "        id        date threat_type flee_status    armed_with       city  \\\n",
       "7999  8710  2022-12-05       point        foot           gun   St. Paul   \n",
       "8000  8711  2022-12-05       shoot        foot           gun    Memphis   \n",
       "8001  8712  2022-12-05      attack         NaN  blunt_object     Seeley   \n",
       "8002  8713  2022-12-06       shoot         NaN           gun  Woodsboro   \n",
       "8003  8714  2022-12-06        flee        foot  undetermined     Fresno   \n",
       "\n",
       "        county state   latitude   longitude location_precision  \\\n",
       "7999    Ramsey    MN  44.952233  -93.055722               road   \n",
       "8000    Shelby    TN  35.051632  -89.923620              block   \n",
       "8001  Imperial    CA  32.793524 -115.686035              block   \n",
       "8002   Refugio    TX  28.239974  -97.323763       intersection   \n",
       "8003    Fresno    CA  36.750656 -119.640391              block   \n",
       "\n",
       "                        name   age gender race race_source  \\\n",
       "7999                     NaN   NaN   male  NaN         NaN   \n",
       "8000          James West Jr.  39.0   male  NaN         NaN   \n",
       "8001                     NaN   NaN    NaN  NaN         NaN   \n",
       "8002  Franco Miguel Anzaldua  24.0   male  NaN         NaN   \n",
       "8003                     NaN   NaN   male  NaN         NaN   \n",
       "\n",
       "      was_mental_illness_related  body_camera agency_ids  \n",
       "7999                       False        False         63  \n",
       "8000                       False        False         31  \n",
       "8001                       False        False       2610  \n",
       "8002                        True        False       2780  \n",
       "8003                       False        False        598  "
      ]
     },
     "execution_count": 6,
     "metadata": {},
     "output_type": "execute_result"
    }
   ],
   "source": [
    "df.tail()"
   ]
  },
  {
   "cell_type": "code",
   "execution_count": 7,
   "metadata": {},
   "outputs": [],
   "source": [
    "\n",
    "states_dict = {\n",
    "    \"Alabama\": \"AL\",\n",
    "    \"Alaska\": \"AK\",\n",
    "    \"Arizona\": \"AZ\",\n",
    "    \"Arkansas\": \"AR\",\n",
    "    \"California\": \"CA\",\n",
    "    \"Colorado\": \"CO\",\n",
    "    \"Connecticut\": \"CT\",\n",
    "    \"Delaware\": \"DE\",\n",
    "    \"Florida\": \"FL\",\n",
    "    \"Georgia\": \"GA\",\n",
    "    \"Hawaii\": \"HI\",\n",
    "    \"Idaho\": \"ID\",\n",
    "    \"Illinois\": \"IL\",\n",
    "    \"Indiana\": \"IN\",\n",
    "    \"Iowa\": \"IA\",\n",
    "    \"Kansas\": \"KS\",\n",
    "    \"Kentucky\": \"KY\",\n",
    "    \"Louisiana\": \"LA\",\n",
    "    \"Maine\": \"ME\",\n",
    "    \"Maryland\": \"MD\",\n",
    "    \"Massachusetts\": \"MA\",\n",
    "    \"Michigan\": \"MI\",\n",
    "    \"Minnesota\": \"MN\",\n",
    "    \"Mississippi\": \"MS\",\n",
    "    \"Missouri\": \"MO\",\n",
    "    \"Montana\": \"MT\",\n",
    "    \"Nebraska\": \"NE\",\n",
    "    \"Nevada\": \"NV\",\n",
    "    \"New Hampshire\": \"NH\",\n",
    "    \"New Jersey\": \"NJ\",\n",
    "    \"New Mexico\": \"NM\",\n",
    "    \"New York\": \"NY\",\n",
    "    \"North Carolina\": \"NC\",\n",
    "    \"North Dakota\": \"ND\",\n",
    "    \"Ohio\": \"OH\",\n",
    "    \"Oklahoma\": \"OK\",\n",
    "    \"Oregon\": \"OR\",\n",
    "    \"Pennsylvania\": \"PA\",\n",
    "    \"Rhode Island\": \"RI\",\n",
    "    \"South Carolina\": \"SC\",\n",
    "    \"South Dakota\": \"SD\",\n",
    "    \"Tennessee\": \"TN\",\n",
    "    \"Texas\": \"TX\",\n",
    "    \"Utah\": \"UT\",\n",
    "    \"Vermont\": \"VT\",\n",
    "    \"Virginia\": \"VA\",\n",
    "    \"Washington\": \"WA\",\n",
    "    \"West Virginia\": \"WV\",\n",
    "    \"Wisconsin\": \"WI\",\n",
    "    \"Wyoming\": \"WY\",\n",
    "    \"District of Columbia\": \"DC\",\n",
    "    \"American Samoa\": \"AS\",\n",
    "    \"Guam\": \"GU\",\n",
    "    \"Northern Mariana Islands\": \"MP\",\n",
    "    \"Puerto Rico\": \"PR\",\n",
    "    \"United States Minor Outlying Islands\": \"UM\",\n",
    "    \"U.S. Virgin Islands\": \"VI\",\n",
    "}"
   ]
  },
  {
   "cell_type": "code",
   "execution_count": 8,
   "metadata": {},
   "outputs": [
    {
     "data": {
      "text/html": [
       "<div>\n",
       "<style scoped>\n",
       "    .dataframe tbody tr th:only-of-type {\n",
       "        vertical-align: middle;\n",
       "    }\n",
       "\n",
       "    .dataframe tbody tr th {\n",
       "        vertical-align: top;\n",
       "    }\n",
       "\n",
       "    .dataframe thead th {\n",
       "        text-align: right;\n",
       "    }\n",
       "</style>\n",
       "<table border=\"1\" class=\"dataframe\">\n",
       "  <thead>\n",
       "    <tr style=\"text-align: right;\">\n",
       "      <th></th>\n",
       "      <th>index</th>\n",
       "      <th>city</th>\n",
       "      <th>state</th>\n",
       "      <th>killings</th>\n",
       "      <th>mental_incident</th>\n",
       "      <th>pop</th>\n",
       "      <th>kpc</th>\n",
       "      <th>mhp</th>\n",
       "    </tr>\n",
       "  </thead>\n",
       "  <tbody>\n",
       "    <tr>\n",
       "      <th>0</th>\n",
       "      <td>96</td>\n",
       "      <td>Boston</td>\n",
       "      <td>MA</td>\n",
       "      <td>10</td>\n",
       "      <td>4</td>\n",
       "      <td>674272</td>\n",
       "      <td>0.000015</td>\n",
       "      <td>0.400000</td>\n",
       "    </tr>\n",
       "    <tr>\n",
       "      <th>1</th>\n",
       "      <td>15</td>\n",
       "      <td>Austin</td>\n",
       "      <td>TX</td>\n",
       "      <td>36</td>\n",
       "      <td>14</td>\n",
       "      <td>963121</td>\n",
       "      <td>0.000037</td>\n",
       "      <td>0.388889</td>\n",
       "    </tr>\n",
       "    <tr>\n",
       "      <th>2</th>\n",
       "      <td>4</td>\n",
       "      <td>Las Vegas</td>\n",
       "      <td>NV</td>\n",
       "      <td>67</td>\n",
       "      <td>23</td>\n",
       "      <td>643292</td>\n",
       "      <td>0.000104</td>\n",
       "      <td>0.343284</td>\n",
       "    </tr>\n",
       "    <tr>\n",
       "      <th>3</th>\n",
       "      <td>30</td>\n",
       "      <td>San Jose</td>\n",
       "      <td>CA</td>\n",
       "      <td>24</td>\n",
       "      <td>8</td>\n",
       "      <td>1010908</td>\n",
       "      <td>0.000024</td>\n",
       "      <td>0.333333</td>\n",
       "    </tr>\n",
       "    <tr>\n",
       "      <th>4</th>\n",
       "      <td>25</td>\n",
       "      <td>San Diego</td>\n",
       "      <td>CA</td>\n",
       "      <td>27</td>\n",
       "      <td>9</td>\n",
       "      <td>1385394</td>\n",
       "      <td>0.000019</td>\n",
       "      <td>0.333333</td>\n",
       "    </tr>\n",
       "    <tr>\n",
       "      <th>5</th>\n",
       "      <td>36</td>\n",
       "      <td>Charlotte</td>\n",
       "      <td>NC</td>\n",
       "      <td>22</td>\n",
       "      <td>7</td>\n",
       "      <td>876747</td>\n",
       "      <td>0.000025</td>\n",
       "      <td>0.318182</td>\n",
       "    </tr>\n",
       "    <tr>\n",
       "      <th>6</th>\n",
       "      <td>28</td>\n",
       "      <td>Portland</td>\n",
       "      <td>OR</td>\n",
       "      <td>25</td>\n",
       "      <td>7</td>\n",
       "      <td>652388</td>\n",
       "      <td>0.000038</td>\n",
       "      <td>0.280000</td>\n",
       "    </tr>\n",
       "    <tr>\n",
       "      <th>7</th>\n",
       "      <td>57</td>\n",
       "      <td>Nashville</td>\n",
       "      <td>TN</td>\n",
       "      <td>15</td>\n",
       "      <td>4</td>\n",
       "      <td>689248</td>\n",
       "      <td>0.000022</td>\n",
       "      <td>0.266667</td>\n",
       "    </tr>\n",
       "    <tr>\n",
       "      <th>8</th>\n",
       "      <td>42</td>\n",
       "      <td>San Francisco</td>\n",
       "      <td>CA</td>\n",
       "      <td>20</td>\n",
       "      <td>5</td>\n",
       "      <td>870014</td>\n",
       "      <td>0.000023</td>\n",
       "      <td>0.250000</td>\n",
       "    </tr>\n",
       "    <tr>\n",
       "      <th>9</th>\n",
       "      <td>9</td>\n",
       "      <td>New York</td>\n",
       "      <td>NY</td>\n",
       "      <td>43</td>\n",
       "      <td>10</td>\n",
       "      <td>8772978</td>\n",
       "      <td>0.000005</td>\n",
       "      <td>0.232558</td>\n",
       "    </tr>\n",
       "    <tr>\n",
       "      <th>10</th>\n",
       "      <td>11</td>\n",
       "      <td>Jacksonville</td>\n",
       "      <td>FL</td>\n",
       "      <td>40</td>\n",
       "      <td>9</td>\n",
       "      <td>950463</td>\n",
       "      <td>0.000042</td>\n",
       "      <td>0.225000</td>\n",
       "    </tr>\n",
       "    <tr>\n",
       "      <th>11</th>\n",
       "      <td>10</td>\n",
       "      <td>Oklahoma City</td>\n",
       "      <td>OK</td>\n",
       "      <td>41</td>\n",
       "      <td>9</td>\n",
       "      <td>682760</td>\n",
       "      <td>0.000060</td>\n",
       "      <td>0.219512</td>\n",
       "    </tr>\n",
       "    <tr>\n",
       "      <th>12</th>\n",
       "      <td>45</td>\n",
       "      <td>El Paso</td>\n",
       "      <td>TX</td>\n",
       "      <td>20</td>\n",
       "      <td>4</td>\n",
       "      <td>678598</td>\n",
       "      <td>0.000029</td>\n",
       "      <td>0.200000</td>\n",
       "    </tr>\n",
       "    <tr>\n",
       "      <th>13</th>\n",
       "      <td>2</td>\n",
       "      <td>Houston</td>\n",
       "      <td>TX</td>\n",
       "      <td>90</td>\n",
       "      <td>16</td>\n",
       "      <td>2300027</td>\n",
       "      <td>0.000039</td>\n",
       "      <td>0.177778</td>\n",
       "    </tr>\n",
       "    <tr>\n",
       "      <th>14</th>\n",
       "      <td>31</td>\n",
       "      <td>Indianapolis</td>\n",
       "      <td>IN</td>\n",
       "      <td>24</td>\n",
       "      <td>4</td>\n",
       "      <td>887382</td>\n",
       "      <td>0.000027</td>\n",
       "      <td>0.166667</td>\n",
       "    </tr>\n",
       "    <tr>\n",
       "      <th>15</th>\n",
       "      <td>46</td>\n",
       "      <td>Seattle</td>\n",
       "      <td>WA</td>\n",
       "      <td>18</td>\n",
       "      <td>3</td>\n",
       "      <td>738172</td>\n",
       "      <td>0.000024</td>\n",
       "      <td>0.166667</td>\n",
       "    </tr>\n",
       "    <tr>\n",
       "      <th>16</th>\n",
       "      <td>29</td>\n",
       "      <td>Fort Worth</td>\n",
       "      <td>TX</td>\n",
       "      <td>24</td>\n",
       "      <td>4</td>\n",
       "      <td>922592</td>\n",
       "      <td>0.000026</td>\n",
       "      <td>0.166667</td>\n",
       "    </tr>\n",
       "    <tr>\n",
       "      <th>17</th>\n",
       "      <td>1</td>\n",
       "      <td>Phoenix</td>\n",
       "      <td>AZ</td>\n",
       "      <td>104</td>\n",
       "      <td>15</td>\n",
       "      <td>1611345</td>\n",
       "      <td>0.000065</td>\n",
       "      <td>0.144231</td>\n",
       "    </tr>\n",
       "    <tr>\n",
       "      <th>18</th>\n",
       "      <td>3</td>\n",
       "      <td>San Antonio</td>\n",
       "      <td>TX</td>\n",
       "      <td>68</td>\n",
       "      <td>8</td>\n",
       "      <td>1438227</td>\n",
       "      <td>0.000047</td>\n",
       "      <td>0.117647</td>\n",
       "    </tr>\n",
       "    <tr>\n",
       "      <th>19</th>\n",
       "      <td>0</td>\n",
       "      <td>Los Angeles</td>\n",
       "      <td>CA</td>\n",
       "      <td>130</td>\n",
       "      <td>15</td>\n",
       "      <td>3889834</td>\n",
       "      <td>0.000033</td>\n",
       "      <td>0.115385</td>\n",
       "    </tr>\n",
       "    <tr>\n",
       "      <th>20</th>\n",
       "      <td>43</td>\n",
       "      <td>Dallas</td>\n",
       "      <td>TX</td>\n",
       "      <td>20</td>\n",
       "      <td>2</td>\n",
       "      <td>1303234</td>\n",
       "      <td>0.000015</td>\n",
       "      <td>0.100000</td>\n",
       "    </tr>\n",
       "    <tr>\n",
       "      <th>21</th>\n",
       "      <td>21</td>\n",
       "      <td>Philadelphia</td>\n",
       "      <td>PA</td>\n",
       "      <td>30</td>\n",
       "      <td>3</td>\n",
       "      <td>1601005</td>\n",
       "      <td>0.000019</td>\n",
       "      <td>0.100000</td>\n",
       "    </tr>\n",
       "    <tr>\n",
       "      <th>22</th>\n",
       "      <td>6</td>\n",
       "      <td>Chicago</td>\n",
       "      <td>IL</td>\n",
       "      <td>50</td>\n",
       "      <td>4</td>\n",
       "      <td>2741730</td>\n",
       "      <td>0.000018</td>\n",
       "      <td>0.080000</td>\n",
       "    </tr>\n",
       "    <tr>\n",
       "      <th>23</th>\n",
       "      <td>7</td>\n",
       "      <td>Denver</td>\n",
       "      <td>CO</td>\n",
       "      <td>47</td>\n",
       "      <td>3</td>\n",
       "      <td>717630</td>\n",
       "      <td>0.000065</td>\n",
       "      <td>0.063830</td>\n",
       "    </tr>\n",
       "    <tr>\n",
       "      <th>24</th>\n",
       "      <td>12</td>\n",
       "      <td>Columbus</td>\n",
       "      <td>OH</td>\n",
       "      <td>40</td>\n",
       "      <td>2</td>\n",
       "      <td>905860</td>\n",
       "      <td>0.000044</td>\n",
       "      <td>0.050000</td>\n",
       "    </tr>\n",
       "  </tbody>\n",
       "</table>\n",
       "</div>"
      ],
      "text/plain": [
       "    index           city state  killings  mental_incident      pop       kpc  \\\n",
       "0      96         Boston    MA        10                4   674272  0.000015   \n",
       "1      15         Austin    TX        36               14   963121  0.000037   \n",
       "2       4      Las Vegas    NV        67               23   643292  0.000104   \n",
       "3      30       San Jose    CA        24                8  1010908  0.000024   \n",
       "4      25      San Diego    CA        27                9  1385394  0.000019   \n",
       "5      36      Charlotte    NC        22                7   876747  0.000025   \n",
       "6      28       Portland    OR        25                7   652388  0.000038   \n",
       "7      57      Nashville    TN        15                4   689248  0.000022   \n",
       "8      42  San Francisco    CA        20                5   870014  0.000023   \n",
       "9       9       New York    NY        43               10  8772978  0.000005   \n",
       "10     11   Jacksonville    FL        40                9   950463  0.000042   \n",
       "11     10  Oklahoma City    OK        41                9   682760  0.000060   \n",
       "12     45        El Paso    TX        20                4   678598  0.000029   \n",
       "13      2        Houston    TX        90               16  2300027  0.000039   \n",
       "14     31   Indianapolis    IN        24                4   887382  0.000027   \n",
       "15     46        Seattle    WA        18                3   738172  0.000024   \n",
       "16     29     Fort Worth    TX        24                4   922592  0.000026   \n",
       "17      1        Phoenix    AZ       104               15  1611345  0.000065   \n",
       "18      3    San Antonio    TX        68                8  1438227  0.000047   \n",
       "19      0    Los Angeles    CA       130               15  3889834  0.000033   \n",
       "20     43         Dallas    TX        20                2  1303234  0.000015   \n",
       "21     21   Philadelphia    PA        30                3  1601005  0.000019   \n",
       "22      6        Chicago    IL        50                4  2741730  0.000018   \n",
       "23      7         Denver    CO        47                3   717630  0.000065   \n",
       "24     12       Columbus    OH        40                2   905860  0.000044   \n",
       "\n",
       "         mhp  \n",
       "0   0.400000  \n",
       "1   0.388889  \n",
       "2   0.343284  \n",
       "3   0.333333  \n",
       "4   0.333333  \n",
       "5   0.318182  \n",
       "6   0.280000  \n",
       "7   0.266667  \n",
       "8   0.250000  \n",
       "9   0.232558  \n",
       "10  0.225000  \n",
       "11  0.219512  \n",
       "12  0.200000  \n",
       "13  0.177778  \n",
       "14  0.166667  \n",
       "15  0.166667  \n",
       "16  0.166667  \n",
       "17  0.144231  \n",
       "18  0.117647  \n",
       "19  0.115385  \n",
       "20  0.100000  \n",
       "21  0.100000  \n",
       "22  0.080000  \n",
       "23  0.063830  \n",
       "24  0.050000  "
      ]
     },
     "execution_count": 8,
     "metadata": {},
     "output_type": "execute_result"
    }
   ],
   "source": [
    "killings_all = pd.pivot_table(df, index=['city','state'], aggfunc='count').sort_values('agency_ids', ascending=False)\n",
    "mental_all = pd.pivot_table(df.loc[(df.was_mental_illness_related==True)], index=['city','state'], aggfunc='count').sort_values('was_mental_illness_related', ascending=False)\n",
    "mental_all.head(50)\n",
    "\n",
    "killings_all = killings_all.reset_index()[['city','state','agency_ids']]\n",
    "mental_all =  mental_all.reset_index()[['city','state','was_mental_illness_related']]\n",
    "killings_all = killings_all.merge(mental_all, on=['city','state'],how='outer').fillna(0)\n",
    "killings_all.columns = ['city','state','killings','mental_incident']\n",
    "killings_all.mental_incident = killings_all.mental_incident.astype(int)\n",
    "\n",
    "pop = pd.read_excel('populations.xlsx')\n",
    "pop.columns = ['city', 'state', 'pop']\n",
    "\n",
    "pop.city = pop.city.str[:-5]\n",
    "pop.state = pop.state.str[1:]\n",
    "\n",
    "pop = pop.replace({'state': states_dict})\n",
    "\n",
    "killings_all = killings_all.merge(pop, on=['city','state'], how='left')\n",
    "killings_all = killings_all.sort_values('pop', ascending=False).head(100)\n",
    "\n",
    "killings_all['pop'] = killings_all['pop'].astype(int)\n",
    "killings_all['kpc'] = killings_all.killings / killings_all['pop']\n",
    "killings_all['mhp'] = killings_all.mental_incident / killings_all.killings\n",
    "killings_all.head(25).sort_values('mhp', ascending = False).reset_index()\n"
   ]
  },
  {
   "cell_type": "code",
   "execution_count": 9,
   "metadata": {},
   "outputs": [
    {
     "data": {
      "text/html": [
       "<div>\n",
       "<style scoped>\n",
       "    .dataframe tbody tr th:only-of-type {\n",
       "        vertical-align: middle;\n",
       "    }\n",
       "\n",
       "    .dataframe tbody tr th {\n",
       "        vertical-align: top;\n",
       "    }\n",
       "\n",
       "    .dataframe thead th {\n",
       "        text-align: right;\n",
       "    }\n",
       "</style>\n",
       "<table border=\"1\" class=\"dataframe\">\n",
       "  <thead>\n",
       "    <tr style=\"text-align: right;\">\n",
       "      <th></th>\n",
       "      <th>index</th>\n",
       "      <th>city</th>\n",
       "      <th>state</th>\n",
       "      <th>killings</th>\n",
       "      <th>mental_incident</th>\n",
       "      <th>pop</th>\n",
       "      <th>kpc</th>\n",
       "      <th>mhp</th>\n",
       "    </tr>\n",
       "  </thead>\n",
       "  <tbody>\n",
       "    <tr>\n",
       "      <th>0</th>\n",
       "      <td>4</td>\n",
       "      <td>Las Vegas</td>\n",
       "      <td>NV</td>\n",
       "      <td>67</td>\n",
       "      <td>23</td>\n",
       "      <td>643292</td>\n",
       "      <td>0.000104</td>\n",
       "      <td>0.343284</td>\n",
       "    </tr>\n",
       "    <tr>\n",
       "      <th>1</th>\n",
       "      <td>7</td>\n",
       "      <td>Denver</td>\n",
       "      <td>CO</td>\n",
       "      <td>47</td>\n",
       "      <td>3</td>\n",
       "      <td>717630</td>\n",
       "      <td>0.000065</td>\n",
       "      <td>0.063830</td>\n",
       "    </tr>\n",
       "    <tr>\n",
       "      <th>2</th>\n",
       "      <td>1</td>\n",
       "      <td>Phoenix</td>\n",
       "      <td>AZ</td>\n",
       "      <td>104</td>\n",
       "      <td>15</td>\n",
       "      <td>1611345</td>\n",
       "      <td>0.000065</td>\n",
       "      <td>0.144231</td>\n",
       "    </tr>\n",
       "    <tr>\n",
       "      <th>3</th>\n",
       "      <td>10</td>\n",
       "      <td>Oklahoma City</td>\n",
       "      <td>OK</td>\n",
       "      <td>41</td>\n",
       "      <td>9</td>\n",
       "      <td>682760</td>\n",
       "      <td>0.000060</td>\n",
       "      <td>0.219512</td>\n",
       "    </tr>\n",
       "    <tr>\n",
       "      <th>4</th>\n",
       "      <td>3</td>\n",
       "      <td>San Antonio</td>\n",
       "      <td>TX</td>\n",
       "      <td>68</td>\n",
       "      <td>8</td>\n",
       "      <td>1438227</td>\n",
       "      <td>0.000047</td>\n",
       "      <td>0.117647</td>\n",
       "    </tr>\n",
       "    <tr>\n",
       "      <th>5</th>\n",
       "      <td>12</td>\n",
       "      <td>Columbus</td>\n",
       "      <td>OH</td>\n",
       "      <td>40</td>\n",
       "      <td>2</td>\n",
       "      <td>905860</td>\n",
       "      <td>0.000044</td>\n",
       "      <td>0.050000</td>\n",
       "    </tr>\n",
       "    <tr>\n",
       "      <th>6</th>\n",
       "      <td>11</td>\n",
       "      <td>Jacksonville</td>\n",
       "      <td>FL</td>\n",
       "      <td>40</td>\n",
       "      <td>9</td>\n",
       "      <td>950463</td>\n",
       "      <td>0.000042</td>\n",
       "      <td>0.225000</td>\n",
       "    </tr>\n",
       "    <tr>\n",
       "      <th>7</th>\n",
       "      <td>2</td>\n",
       "      <td>Houston</td>\n",
       "      <td>TX</td>\n",
       "      <td>90</td>\n",
       "      <td>16</td>\n",
       "      <td>2300027</td>\n",
       "      <td>0.000039</td>\n",
       "      <td>0.177778</td>\n",
       "    </tr>\n",
       "    <tr>\n",
       "      <th>8</th>\n",
       "      <td>28</td>\n",
       "      <td>Portland</td>\n",
       "      <td>OR</td>\n",
       "      <td>25</td>\n",
       "      <td>7</td>\n",
       "      <td>652388</td>\n",
       "      <td>0.000038</td>\n",
       "      <td>0.280000</td>\n",
       "    </tr>\n",
       "    <tr>\n",
       "      <th>9</th>\n",
       "      <td>15</td>\n",
       "      <td>Austin</td>\n",
       "      <td>TX</td>\n",
       "      <td>36</td>\n",
       "      <td>14</td>\n",
       "      <td>963121</td>\n",
       "      <td>0.000037</td>\n",
       "      <td>0.388889</td>\n",
       "    </tr>\n",
       "    <tr>\n",
       "      <th>10</th>\n",
       "      <td>0</td>\n",
       "      <td>Los Angeles</td>\n",
       "      <td>CA</td>\n",
       "      <td>130</td>\n",
       "      <td>15</td>\n",
       "      <td>3889834</td>\n",
       "      <td>0.000033</td>\n",
       "      <td>0.115385</td>\n",
       "    </tr>\n",
       "    <tr>\n",
       "      <th>11</th>\n",
       "      <td>45</td>\n",
       "      <td>El Paso</td>\n",
       "      <td>TX</td>\n",
       "      <td>20</td>\n",
       "      <td>4</td>\n",
       "      <td>678598</td>\n",
       "      <td>0.000029</td>\n",
       "      <td>0.200000</td>\n",
       "    </tr>\n",
       "    <tr>\n",
       "      <th>12</th>\n",
       "      <td>31</td>\n",
       "      <td>Indianapolis</td>\n",
       "      <td>IN</td>\n",
       "      <td>24</td>\n",
       "      <td>4</td>\n",
       "      <td>887382</td>\n",
       "      <td>0.000027</td>\n",
       "      <td>0.166667</td>\n",
       "    </tr>\n",
       "    <tr>\n",
       "      <th>13</th>\n",
       "      <td>29</td>\n",
       "      <td>Fort Worth</td>\n",
       "      <td>TX</td>\n",
       "      <td>24</td>\n",
       "      <td>4</td>\n",
       "      <td>922592</td>\n",
       "      <td>0.000026</td>\n",
       "      <td>0.166667</td>\n",
       "    </tr>\n",
       "    <tr>\n",
       "      <th>14</th>\n",
       "      <td>36</td>\n",
       "      <td>Charlotte</td>\n",
       "      <td>NC</td>\n",
       "      <td>22</td>\n",
       "      <td>7</td>\n",
       "      <td>876747</td>\n",
       "      <td>0.000025</td>\n",
       "      <td>0.318182</td>\n",
       "    </tr>\n",
       "    <tr>\n",
       "      <th>15</th>\n",
       "      <td>46</td>\n",
       "      <td>Seattle</td>\n",
       "      <td>WA</td>\n",
       "      <td>18</td>\n",
       "      <td>3</td>\n",
       "      <td>738172</td>\n",
       "      <td>0.000024</td>\n",
       "      <td>0.166667</td>\n",
       "    </tr>\n",
       "    <tr>\n",
       "      <th>16</th>\n",
       "      <td>30</td>\n",
       "      <td>San Jose</td>\n",
       "      <td>CA</td>\n",
       "      <td>24</td>\n",
       "      <td>8</td>\n",
       "      <td>1010908</td>\n",
       "      <td>0.000024</td>\n",
       "      <td>0.333333</td>\n",
       "    </tr>\n",
       "    <tr>\n",
       "      <th>17</th>\n",
       "      <td>42</td>\n",
       "      <td>San Francisco</td>\n",
       "      <td>CA</td>\n",
       "      <td>20</td>\n",
       "      <td>5</td>\n",
       "      <td>870014</td>\n",
       "      <td>0.000023</td>\n",
       "      <td>0.250000</td>\n",
       "    </tr>\n",
       "    <tr>\n",
       "      <th>18</th>\n",
       "      <td>57</td>\n",
       "      <td>Nashville</td>\n",
       "      <td>TN</td>\n",
       "      <td>15</td>\n",
       "      <td>4</td>\n",
       "      <td>689248</td>\n",
       "      <td>0.000022</td>\n",
       "      <td>0.266667</td>\n",
       "    </tr>\n",
       "    <tr>\n",
       "      <th>19</th>\n",
       "      <td>25</td>\n",
       "      <td>San Diego</td>\n",
       "      <td>CA</td>\n",
       "      <td>27</td>\n",
       "      <td>9</td>\n",
       "      <td>1385394</td>\n",
       "      <td>0.000019</td>\n",
       "      <td>0.333333</td>\n",
       "    </tr>\n",
       "    <tr>\n",
       "      <th>20</th>\n",
       "      <td>21</td>\n",
       "      <td>Philadelphia</td>\n",
       "      <td>PA</td>\n",
       "      <td>30</td>\n",
       "      <td>3</td>\n",
       "      <td>1601005</td>\n",
       "      <td>0.000019</td>\n",
       "      <td>0.100000</td>\n",
       "    </tr>\n",
       "    <tr>\n",
       "      <th>21</th>\n",
       "      <td>6</td>\n",
       "      <td>Chicago</td>\n",
       "      <td>IL</td>\n",
       "      <td>50</td>\n",
       "      <td>4</td>\n",
       "      <td>2741730</td>\n",
       "      <td>0.000018</td>\n",
       "      <td>0.080000</td>\n",
       "    </tr>\n",
       "    <tr>\n",
       "      <th>22</th>\n",
       "      <td>43</td>\n",
       "      <td>Dallas</td>\n",
       "      <td>TX</td>\n",
       "      <td>20</td>\n",
       "      <td>2</td>\n",
       "      <td>1303234</td>\n",
       "      <td>0.000015</td>\n",
       "      <td>0.100000</td>\n",
       "    </tr>\n",
       "    <tr>\n",
       "      <th>23</th>\n",
       "      <td>96</td>\n",
       "      <td>Boston</td>\n",
       "      <td>MA</td>\n",
       "      <td>10</td>\n",
       "      <td>4</td>\n",
       "      <td>674272</td>\n",
       "      <td>0.000015</td>\n",
       "      <td>0.400000</td>\n",
       "    </tr>\n",
       "    <tr>\n",
       "      <th>24</th>\n",
       "      <td>9</td>\n",
       "      <td>New York</td>\n",
       "      <td>NY</td>\n",
       "      <td>43</td>\n",
       "      <td>10</td>\n",
       "      <td>8772978</td>\n",
       "      <td>0.000005</td>\n",
       "      <td>0.232558</td>\n",
       "    </tr>\n",
       "  </tbody>\n",
       "</table>\n",
       "</div>"
      ],
      "text/plain": [
       "    index           city state  killings  mental_incident      pop       kpc  \\\n",
       "0       4      Las Vegas    NV        67               23   643292  0.000104   \n",
       "1       7         Denver    CO        47                3   717630  0.000065   \n",
       "2       1        Phoenix    AZ       104               15  1611345  0.000065   \n",
       "3      10  Oklahoma City    OK        41                9   682760  0.000060   \n",
       "4       3    San Antonio    TX        68                8  1438227  0.000047   \n",
       "5      12       Columbus    OH        40                2   905860  0.000044   \n",
       "6      11   Jacksonville    FL        40                9   950463  0.000042   \n",
       "7       2        Houston    TX        90               16  2300027  0.000039   \n",
       "8      28       Portland    OR        25                7   652388  0.000038   \n",
       "9      15         Austin    TX        36               14   963121  0.000037   \n",
       "10      0    Los Angeles    CA       130               15  3889834  0.000033   \n",
       "11     45        El Paso    TX        20                4   678598  0.000029   \n",
       "12     31   Indianapolis    IN        24                4   887382  0.000027   \n",
       "13     29     Fort Worth    TX        24                4   922592  0.000026   \n",
       "14     36      Charlotte    NC        22                7   876747  0.000025   \n",
       "15     46        Seattle    WA        18                3   738172  0.000024   \n",
       "16     30       San Jose    CA        24                8  1010908  0.000024   \n",
       "17     42  San Francisco    CA        20                5   870014  0.000023   \n",
       "18     57      Nashville    TN        15                4   689248  0.000022   \n",
       "19     25      San Diego    CA        27                9  1385394  0.000019   \n",
       "20     21   Philadelphia    PA        30                3  1601005  0.000019   \n",
       "21      6        Chicago    IL        50                4  2741730  0.000018   \n",
       "22     43         Dallas    TX        20                2  1303234  0.000015   \n",
       "23     96         Boston    MA        10                4   674272  0.000015   \n",
       "24      9       New York    NY        43               10  8772978  0.000005   \n",
       "\n",
       "         mhp  \n",
       "0   0.343284  \n",
       "1   0.063830  \n",
       "2   0.144231  \n",
       "3   0.219512  \n",
       "4   0.117647  \n",
       "5   0.050000  \n",
       "6   0.225000  \n",
       "7   0.177778  \n",
       "8   0.280000  \n",
       "9   0.388889  \n",
       "10  0.115385  \n",
       "11  0.200000  \n",
       "12  0.166667  \n",
       "13  0.166667  \n",
       "14  0.318182  \n",
       "15  0.166667  \n",
       "16  0.333333  \n",
       "17  0.250000  \n",
       "18  0.266667  \n",
       "19  0.333333  \n",
       "20  0.100000  \n",
       "21  0.080000  \n",
       "22  0.100000  \n",
       "23  0.400000  \n",
       "24  0.232558  "
      ]
     },
     "execution_count": 9,
     "metadata": {},
     "output_type": "execute_result"
    }
   ],
   "source": [
    "killings_all.head(25).sort_values('kpc', ascending = False).reset_index()"
   ]
  },
  {
   "cell_type": "code",
   "execution_count": null,
   "metadata": {},
   "outputs": [],
   "source": []
  },
  {
   "cell_type": "code",
   "execution_count": 10,
   "metadata": {},
   "outputs": [
    {
     "data": {
      "text/html": [
       "<div>\n",
       "<style scoped>\n",
       "    .dataframe tbody tr th:only-of-type {\n",
       "        vertical-align: middle;\n",
       "    }\n",
       "\n",
       "    .dataframe tbody tr th {\n",
       "        vertical-align: top;\n",
       "    }\n",
       "\n",
       "    .dataframe thead th {\n",
       "        text-align: right;\n",
       "    }\n",
       "</style>\n",
       "<table border=\"1\" class=\"dataframe\">\n",
       "  <thead>\n",
       "    <tr style=\"text-align: right;\">\n",
       "      <th></th>\n",
       "      <th>index</th>\n",
       "      <th>city</th>\n",
       "      <th>state</th>\n",
       "      <th>killings</th>\n",
       "      <th>mental_incident</th>\n",
       "      <th>pop</th>\n",
       "      <th>kpc</th>\n",
       "      <th>mhp</th>\n",
       "    </tr>\n",
       "  </thead>\n",
       "  <tbody>\n",
       "    <tr>\n",
       "      <th>0</th>\n",
       "      <td>4</td>\n",
       "      <td>Las Vegas</td>\n",
       "      <td>NV</td>\n",
       "      <td>42</td>\n",
       "      <td>12</td>\n",
       "      <td>643292</td>\n",
       "      <td>0.000065</td>\n",
       "      <td>0.285714</td>\n",
       "    </tr>\n",
       "    <tr>\n",
       "      <th>1</th>\n",
       "      <td>6</td>\n",
       "      <td>Denver</td>\n",
       "      <td>CO</td>\n",
       "      <td>33</td>\n",
       "      <td>2</td>\n",
       "      <td>717630</td>\n",
       "      <td>0.000046</td>\n",
       "      <td>0.060606</td>\n",
       "    </tr>\n",
       "    <tr>\n",
       "      <th>2</th>\n",
       "      <td>1</td>\n",
       "      <td>Phoenix</td>\n",
       "      <td>AZ</td>\n",
       "      <td>70</td>\n",
       "      <td>6</td>\n",
       "      <td>1611345</td>\n",
       "      <td>0.000043</td>\n",
       "      <td>0.085714</td>\n",
       "    </tr>\n",
       "    <tr>\n",
       "      <th>3</th>\n",
       "      <td>10</td>\n",
       "      <td>Oklahoma City</td>\n",
       "      <td>OK</td>\n",
       "      <td>25</td>\n",
       "      <td>5</td>\n",
       "      <td>682760</td>\n",
       "      <td>0.000037</td>\n",
       "      <td>0.200000</td>\n",
       "    </tr>\n",
       "    <tr>\n",
       "      <th>4</th>\n",
       "      <td>3</td>\n",
       "      <td>San Antonio</td>\n",
       "      <td>TX</td>\n",
       "      <td>49</td>\n",
       "      <td>5</td>\n",
       "      <td>1438227</td>\n",
       "      <td>0.000034</td>\n",
       "      <td>0.102041</td>\n",
       "    </tr>\n",
       "    <tr>\n",
       "      <th>5</th>\n",
       "      <td>24</td>\n",
       "      <td>Portland</td>\n",
       "      <td>OR</td>\n",
       "      <td>19</td>\n",
       "      <td>4</td>\n",
       "      <td>652388</td>\n",
       "      <td>0.000029</td>\n",
       "      <td>0.210526</td>\n",
       "    </tr>\n",
       "    <tr>\n",
       "      <th>6</th>\n",
       "      <td>9</td>\n",
       "      <td>Jacksonville</td>\n",
       "      <td>FL</td>\n",
       "      <td>26</td>\n",
       "      <td>7</td>\n",
       "      <td>950463</td>\n",
       "      <td>0.000027</td>\n",
       "      <td>0.269231</td>\n",
       "    </tr>\n",
       "    <tr>\n",
       "      <th>7</th>\n",
       "      <td>2</td>\n",
       "      <td>Houston</td>\n",
       "      <td>TX</td>\n",
       "      <td>60</td>\n",
       "      <td>11</td>\n",
       "      <td>2300027</td>\n",
       "      <td>0.000026</td>\n",
       "      <td>0.183333</td>\n",
       "    </tr>\n",
       "    <tr>\n",
       "      <th>8</th>\n",
       "      <td>13</td>\n",
       "      <td>Columbus</td>\n",
       "      <td>OH</td>\n",
       "      <td>23</td>\n",
       "      <td>0</td>\n",
       "      <td>905860</td>\n",
       "      <td>0.000025</td>\n",
       "      <td>0.000000</td>\n",
       "    </tr>\n",
       "    <tr>\n",
       "      <th>9</th>\n",
       "      <td>0</td>\n",
       "      <td>Los Angeles</td>\n",
       "      <td>CA</td>\n",
       "      <td>86</td>\n",
       "      <td>9</td>\n",
       "      <td>3889834</td>\n",
       "      <td>0.000022</td>\n",
       "      <td>0.104651</td>\n",
       "    </tr>\n",
       "    <tr>\n",
       "      <th>10</th>\n",
       "      <td>18</td>\n",
       "      <td>Austin</td>\n",
       "      <td>TX</td>\n",
       "      <td>20</td>\n",
       "      <td>7</td>\n",
       "      <td>963121</td>\n",
       "      <td>0.000021</td>\n",
       "      <td>0.350000</td>\n",
       "    </tr>\n",
       "    <tr>\n",
       "      <th>11</th>\n",
       "      <td>44</td>\n",
       "      <td>El Paso</td>\n",
       "      <td>TX</td>\n",
       "      <td>12</td>\n",
       "      <td>2</td>\n",
       "      <td>678598</td>\n",
       "      <td>0.000018</td>\n",
       "      <td>0.166667</td>\n",
       "    </tr>\n",
       "    <tr>\n",
       "      <th>12</th>\n",
       "      <td>29</td>\n",
       "      <td>Fort Worth</td>\n",
       "      <td>TX</td>\n",
       "      <td>16</td>\n",
       "      <td>3</td>\n",
       "      <td>922592</td>\n",
       "      <td>0.000017</td>\n",
       "      <td>0.187500</td>\n",
       "    </tr>\n",
       "    <tr>\n",
       "      <th>13</th>\n",
       "      <td>42</td>\n",
       "      <td>Seattle</td>\n",
       "      <td>WA</td>\n",
       "      <td>12</td>\n",
       "      <td>2</td>\n",
       "      <td>738172</td>\n",
       "      <td>0.000016</td>\n",
       "      <td>0.166667</td>\n",
       "    </tr>\n",
       "    <tr>\n",
       "      <th>14</th>\n",
       "      <td>58</td>\n",
       "      <td>Nashville</td>\n",
       "      <td>TN</td>\n",
       "      <td>10</td>\n",
       "      <td>3</td>\n",
       "      <td>689248</td>\n",
       "      <td>0.000015</td>\n",
       "      <td>0.300000</td>\n",
       "    </tr>\n",
       "    <tr>\n",
       "      <th>15</th>\n",
       "      <td>47</td>\n",
       "      <td>Charlotte</td>\n",
       "      <td>NC</td>\n",
       "      <td>11</td>\n",
       "      <td>4</td>\n",
       "      <td>876747</td>\n",
       "      <td>0.000013</td>\n",
       "      <td>0.363636</td>\n",
       "    </tr>\n",
       "    <tr>\n",
       "      <th>16</th>\n",
       "      <td>17</td>\n",
       "      <td>Philadelphia</td>\n",
       "      <td>PA</td>\n",
       "      <td>20</td>\n",
       "      <td>2</td>\n",
       "      <td>1601005</td>\n",
       "      <td>0.000012</td>\n",
       "      <td>0.100000</td>\n",
       "    </tr>\n",
       "    <tr>\n",
       "      <th>17</th>\n",
       "      <td>28</td>\n",
       "      <td>San Diego</td>\n",
       "      <td>CA</td>\n",
       "      <td>17</td>\n",
       "      <td>6</td>\n",
       "      <td>1385394</td>\n",
       "      <td>0.000012</td>\n",
       "      <td>0.352941</td>\n",
       "    </tr>\n",
       "    <tr>\n",
       "      <th>18</th>\n",
       "      <td>45</td>\n",
       "      <td>San Jose</td>\n",
       "      <td>CA</td>\n",
       "      <td>12</td>\n",
       "      <td>2</td>\n",
       "      <td>1010908</td>\n",
       "      <td>0.000012</td>\n",
       "      <td>0.166667</td>\n",
       "    </tr>\n",
       "    <tr>\n",
       "      <th>19</th>\n",
       "      <td>54</td>\n",
       "      <td>Indianapolis</td>\n",
       "      <td>IN</td>\n",
       "      <td>10</td>\n",
       "      <td>2</td>\n",
       "      <td>887382</td>\n",
       "      <td>0.000011</td>\n",
       "      <td>0.200000</td>\n",
       "    </tr>\n",
       "    <tr>\n",
       "      <th>20</th>\n",
       "      <td>41</td>\n",
       "      <td>Dallas</td>\n",
       "      <td>TX</td>\n",
       "      <td>12</td>\n",
       "      <td>1</td>\n",
       "      <td>1303234</td>\n",
       "      <td>0.000009</td>\n",
       "      <td>0.083333</td>\n",
       "    </tr>\n",
       "    <tr>\n",
       "      <th>21</th>\n",
       "      <td>14</td>\n",
       "      <td>Chicago</td>\n",
       "      <td>IL</td>\n",
       "      <td>23</td>\n",
       "      <td>2</td>\n",
       "      <td>2741730</td>\n",
       "      <td>0.000008</td>\n",
       "      <td>0.086957</td>\n",
       "    </tr>\n",
       "    <tr>\n",
       "      <th>22</th>\n",
       "      <td>80</td>\n",
       "      <td>San Francisco</td>\n",
       "      <td>CA</td>\n",
       "      <td>7</td>\n",
       "      <td>2</td>\n",
       "      <td>870014</td>\n",
       "      <td>0.000008</td>\n",
       "      <td>0.285714</td>\n",
       "    </tr>\n",
       "    <tr>\n",
       "      <th>23</th>\n",
       "      <td>118</td>\n",
       "      <td>Boston</td>\n",
       "      <td>MA</td>\n",
       "      <td>5</td>\n",
       "      <td>1</td>\n",
       "      <td>674272</td>\n",
       "      <td>0.000007</td>\n",
       "      <td>0.200000</td>\n",
       "    </tr>\n",
       "    <tr>\n",
       "      <th>24</th>\n",
       "      <td>7</td>\n",
       "      <td>New York</td>\n",
       "      <td>NY</td>\n",
       "      <td>32</td>\n",
       "      <td>6</td>\n",
       "      <td>8772978</td>\n",
       "      <td>0.000004</td>\n",
       "      <td>0.187500</td>\n",
       "    </tr>\n",
       "  </tbody>\n",
       "</table>\n",
       "</div>"
      ],
      "text/plain": [
       "    index           city state  killings  mental_incident      pop       kpc  \\\n",
       "0       4      Las Vegas    NV        42               12   643292  0.000065   \n",
       "1       6         Denver    CO        33                2   717630  0.000046   \n",
       "2       1        Phoenix    AZ        70                6  1611345  0.000043   \n",
       "3      10  Oklahoma City    OK        25                5   682760  0.000037   \n",
       "4       3    San Antonio    TX        49                5  1438227  0.000034   \n",
       "5      24       Portland    OR        19                4   652388  0.000029   \n",
       "6       9   Jacksonville    FL        26                7   950463  0.000027   \n",
       "7       2        Houston    TX        60               11  2300027  0.000026   \n",
       "8      13       Columbus    OH        23                0   905860  0.000025   \n",
       "9       0    Los Angeles    CA        86                9  3889834  0.000022   \n",
       "10     18         Austin    TX        20                7   963121  0.000021   \n",
       "11     44        El Paso    TX        12                2   678598  0.000018   \n",
       "12     29     Fort Worth    TX        16                3   922592  0.000017   \n",
       "13     42        Seattle    WA        12                2   738172  0.000016   \n",
       "14     58      Nashville    TN        10                3   689248  0.000015   \n",
       "15     47      Charlotte    NC        11                4   876747  0.000013   \n",
       "16     17   Philadelphia    PA        20                2  1601005  0.000012   \n",
       "17     28      San Diego    CA        17                6  1385394  0.000012   \n",
       "18     45       San Jose    CA        12                2  1010908  0.000012   \n",
       "19     54   Indianapolis    IN        10                2   887382  0.000011   \n",
       "20     41         Dallas    TX        12                1  1303234  0.000009   \n",
       "21     14        Chicago    IL        23                2  2741730  0.000008   \n",
       "22     80  San Francisco    CA         7                2   870014  0.000008   \n",
       "23    118         Boston    MA         5                1   674272  0.000007   \n",
       "24      7       New York    NY        32                6  8772978  0.000004   \n",
       "\n",
       "         mhp  \n",
       "0   0.285714  \n",
       "1   0.060606  \n",
       "2   0.085714  \n",
       "3   0.200000  \n",
       "4   0.102041  \n",
       "5   0.210526  \n",
       "6   0.269231  \n",
       "7   0.183333  \n",
       "8   0.000000  \n",
       "9   0.104651  \n",
       "10  0.350000  \n",
       "11  0.166667  \n",
       "12  0.187500  \n",
       "13  0.166667  \n",
       "14  0.300000  \n",
       "15  0.363636  \n",
       "16  0.100000  \n",
       "17  0.352941  \n",
       "18  0.166667  \n",
       "19  0.200000  \n",
       "20  0.083333  \n",
       "21  0.086957  \n",
       "22  0.285714  \n",
       "23  0.200000  \n",
       "24  0.187500  "
      ]
     },
     "execution_count": 10,
     "metadata": {},
     "output_type": "execute_result"
    }
   ],
   "source": [
    "killings_wsj = pd.pivot_table(df.loc[(df.date>'2017-12-01')], index=['city','state'], aggfunc='count').sort_values('agency_ids', ascending=False)\n",
    "mental_wsj = pd.pivot_table(df.loc[((df.date>'2017-12-01')&(df.was_mental_illness_related==True))], index=['city','state'], aggfunc='count').sort_values('was_mental_illness_related', ascending=False)\n",
    "mental_wsj.head(50)\n",
    "\n",
    "killings_wsj = killings_wsj.reset_index()[['city','state','agency_ids']]\n",
    "mental_wsj =  mental_wsj.reset_index()[['city','state','was_mental_illness_related']]\n",
    "killings_wsj = killings_wsj.merge(mental_wsj, on=['city','state'],how='outer').fillna(0)\n",
    "killings_wsj.columns = ['city','state','killings','mental_incident']\n",
    "killings_wsj.mental_incident = killings_wsj.mental_incident.astype(int)\n",
    "\n",
    "killings_wsj = killings_wsj.merge(pop, on=['city','state'], how='left')\n",
    "\n",
    "killings_wsj = killings_wsj.sort_values('pop', ascending=False).head(100)\n",
    "killings_wsj['pop'] = killings_wsj['pop'].astype(int)\n",
    "killings_wsj['kpc'] = killings_wsj.killings / killings_wsj['pop']\n",
    "killings_wsj['mhp'] = killings_wsj.mental_incident / killings_wsj.killings\n",
    "killings_wsj.head(25).sort_values(['kpc'], ascending = False).reset_index()\n"
   ]
  },
  {
   "cell_type": "code",
   "execution_count": 11,
   "metadata": {},
   "outputs": [
    {
     "data": {
      "text/html": [
       "<div>\n",
       "<style scoped>\n",
       "    .dataframe tbody tr th:only-of-type {\n",
       "        vertical-align: middle;\n",
       "    }\n",
       "\n",
       "    .dataframe tbody tr th {\n",
       "        vertical-align: top;\n",
       "    }\n",
       "\n",
       "    .dataframe thead th {\n",
       "        text-align: right;\n",
       "    }\n",
       "</style>\n",
       "<table border=\"1\" class=\"dataframe\">\n",
       "  <thead>\n",
       "    <tr style=\"text-align: right;\">\n",
       "      <th></th>\n",
       "      <th>index</th>\n",
       "      <th>city</th>\n",
       "      <th>state</th>\n",
       "      <th>killings</th>\n",
       "      <th>mental_incident</th>\n",
       "      <th>pop</th>\n",
       "      <th>kpc</th>\n",
       "      <th>mhp</th>\n",
       "    </tr>\n",
       "  </thead>\n",
       "  <tbody>\n",
       "    <tr>\n",
       "      <th>0</th>\n",
       "      <td>47</td>\n",
       "      <td>Charlotte</td>\n",
       "      <td>NC</td>\n",
       "      <td>11</td>\n",
       "      <td>4</td>\n",
       "      <td>876747</td>\n",
       "      <td>0.000013</td>\n",
       "      <td>0.363636</td>\n",
       "    </tr>\n",
       "    <tr>\n",
       "      <th>1</th>\n",
       "      <td>28</td>\n",
       "      <td>San Diego</td>\n",
       "      <td>CA</td>\n",
       "      <td>17</td>\n",
       "      <td>6</td>\n",
       "      <td>1385394</td>\n",
       "      <td>0.000012</td>\n",
       "      <td>0.352941</td>\n",
       "    </tr>\n",
       "    <tr>\n",
       "      <th>2</th>\n",
       "      <td>18</td>\n",
       "      <td>Austin</td>\n",
       "      <td>TX</td>\n",
       "      <td>20</td>\n",
       "      <td>7</td>\n",
       "      <td>963121</td>\n",
       "      <td>0.000021</td>\n",
       "      <td>0.350000</td>\n",
       "    </tr>\n",
       "    <tr>\n",
       "      <th>3</th>\n",
       "      <td>58</td>\n",
       "      <td>Nashville</td>\n",
       "      <td>TN</td>\n",
       "      <td>10</td>\n",
       "      <td>3</td>\n",
       "      <td>689248</td>\n",
       "      <td>0.000015</td>\n",
       "      <td>0.300000</td>\n",
       "    </tr>\n",
       "    <tr>\n",
       "      <th>4</th>\n",
       "      <td>4</td>\n",
       "      <td>Las Vegas</td>\n",
       "      <td>NV</td>\n",
       "      <td>42</td>\n",
       "      <td>12</td>\n",
       "      <td>643292</td>\n",
       "      <td>0.000065</td>\n",
       "      <td>0.285714</td>\n",
       "    </tr>\n",
       "    <tr>\n",
       "      <th>5</th>\n",
       "      <td>80</td>\n",
       "      <td>San Francisco</td>\n",
       "      <td>CA</td>\n",
       "      <td>7</td>\n",
       "      <td>2</td>\n",
       "      <td>870014</td>\n",
       "      <td>0.000008</td>\n",
       "      <td>0.285714</td>\n",
       "    </tr>\n",
       "    <tr>\n",
       "      <th>6</th>\n",
       "      <td>9</td>\n",
       "      <td>Jacksonville</td>\n",
       "      <td>FL</td>\n",
       "      <td>26</td>\n",
       "      <td>7</td>\n",
       "      <td>950463</td>\n",
       "      <td>0.000027</td>\n",
       "      <td>0.269231</td>\n",
       "    </tr>\n",
       "    <tr>\n",
       "      <th>7</th>\n",
       "      <td>24</td>\n",
       "      <td>Portland</td>\n",
       "      <td>OR</td>\n",
       "      <td>19</td>\n",
       "      <td>4</td>\n",
       "      <td>652388</td>\n",
       "      <td>0.000029</td>\n",
       "      <td>0.210526</td>\n",
       "    </tr>\n",
       "    <tr>\n",
       "      <th>8</th>\n",
       "      <td>118</td>\n",
       "      <td>Boston</td>\n",
       "      <td>MA</td>\n",
       "      <td>5</td>\n",
       "      <td>1</td>\n",
       "      <td>674272</td>\n",
       "      <td>0.000007</td>\n",
       "      <td>0.200000</td>\n",
       "    </tr>\n",
       "    <tr>\n",
       "      <th>9</th>\n",
       "      <td>10</td>\n",
       "      <td>Oklahoma City</td>\n",
       "      <td>OK</td>\n",
       "      <td>25</td>\n",
       "      <td>5</td>\n",
       "      <td>682760</td>\n",
       "      <td>0.000037</td>\n",
       "      <td>0.200000</td>\n",
       "    </tr>\n",
       "    <tr>\n",
       "      <th>10</th>\n",
       "      <td>54</td>\n",
       "      <td>Indianapolis</td>\n",
       "      <td>IN</td>\n",
       "      <td>10</td>\n",
       "      <td>2</td>\n",
       "      <td>887382</td>\n",
       "      <td>0.000011</td>\n",
       "      <td>0.200000</td>\n",
       "    </tr>\n",
       "    <tr>\n",
       "      <th>11</th>\n",
       "      <td>7</td>\n",
       "      <td>New York</td>\n",
       "      <td>NY</td>\n",
       "      <td>32</td>\n",
       "      <td>6</td>\n",
       "      <td>8772978</td>\n",
       "      <td>0.000004</td>\n",
       "      <td>0.187500</td>\n",
       "    </tr>\n",
       "    <tr>\n",
       "      <th>12</th>\n",
       "      <td>29</td>\n",
       "      <td>Fort Worth</td>\n",
       "      <td>TX</td>\n",
       "      <td>16</td>\n",
       "      <td>3</td>\n",
       "      <td>922592</td>\n",
       "      <td>0.000017</td>\n",
       "      <td>0.187500</td>\n",
       "    </tr>\n",
       "    <tr>\n",
       "      <th>13</th>\n",
       "      <td>2</td>\n",
       "      <td>Houston</td>\n",
       "      <td>TX</td>\n",
       "      <td>60</td>\n",
       "      <td>11</td>\n",
       "      <td>2300027</td>\n",
       "      <td>0.000026</td>\n",
       "      <td>0.183333</td>\n",
       "    </tr>\n",
       "    <tr>\n",
       "      <th>14</th>\n",
       "      <td>45</td>\n",
       "      <td>San Jose</td>\n",
       "      <td>CA</td>\n",
       "      <td>12</td>\n",
       "      <td>2</td>\n",
       "      <td>1010908</td>\n",
       "      <td>0.000012</td>\n",
       "      <td>0.166667</td>\n",
       "    </tr>\n",
       "    <tr>\n",
       "      <th>15</th>\n",
       "      <td>42</td>\n",
       "      <td>Seattle</td>\n",
       "      <td>WA</td>\n",
       "      <td>12</td>\n",
       "      <td>2</td>\n",
       "      <td>738172</td>\n",
       "      <td>0.000016</td>\n",
       "      <td>0.166667</td>\n",
       "    </tr>\n",
       "    <tr>\n",
       "      <th>16</th>\n",
       "      <td>44</td>\n",
       "      <td>El Paso</td>\n",
       "      <td>TX</td>\n",
       "      <td>12</td>\n",
       "      <td>2</td>\n",
       "      <td>678598</td>\n",
       "      <td>0.000018</td>\n",
       "      <td>0.166667</td>\n",
       "    </tr>\n",
       "    <tr>\n",
       "      <th>17</th>\n",
       "      <td>0</td>\n",
       "      <td>Los Angeles</td>\n",
       "      <td>CA</td>\n",
       "      <td>86</td>\n",
       "      <td>9</td>\n",
       "      <td>3889834</td>\n",
       "      <td>0.000022</td>\n",
       "      <td>0.104651</td>\n",
       "    </tr>\n",
       "    <tr>\n",
       "      <th>18</th>\n",
       "      <td>3</td>\n",
       "      <td>San Antonio</td>\n",
       "      <td>TX</td>\n",
       "      <td>49</td>\n",
       "      <td>5</td>\n",
       "      <td>1438227</td>\n",
       "      <td>0.000034</td>\n",
       "      <td>0.102041</td>\n",
       "    </tr>\n",
       "    <tr>\n",
       "      <th>19</th>\n",
       "      <td>17</td>\n",
       "      <td>Philadelphia</td>\n",
       "      <td>PA</td>\n",
       "      <td>20</td>\n",
       "      <td>2</td>\n",
       "      <td>1601005</td>\n",
       "      <td>0.000012</td>\n",
       "      <td>0.100000</td>\n",
       "    </tr>\n",
       "    <tr>\n",
       "      <th>20</th>\n",
       "      <td>14</td>\n",
       "      <td>Chicago</td>\n",
       "      <td>IL</td>\n",
       "      <td>23</td>\n",
       "      <td>2</td>\n",
       "      <td>2741730</td>\n",
       "      <td>0.000008</td>\n",
       "      <td>0.086957</td>\n",
       "    </tr>\n",
       "    <tr>\n",
       "      <th>21</th>\n",
       "      <td>1</td>\n",
       "      <td>Phoenix</td>\n",
       "      <td>AZ</td>\n",
       "      <td>70</td>\n",
       "      <td>6</td>\n",
       "      <td>1611345</td>\n",
       "      <td>0.000043</td>\n",
       "      <td>0.085714</td>\n",
       "    </tr>\n",
       "    <tr>\n",
       "      <th>22</th>\n",
       "      <td>41</td>\n",
       "      <td>Dallas</td>\n",
       "      <td>TX</td>\n",
       "      <td>12</td>\n",
       "      <td>1</td>\n",
       "      <td>1303234</td>\n",
       "      <td>0.000009</td>\n",
       "      <td>0.083333</td>\n",
       "    </tr>\n",
       "    <tr>\n",
       "      <th>23</th>\n",
       "      <td>6</td>\n",
       "      <td>Denver</td>\n",
       "      <td>CO</td>\n",
       "      <td>33</td>\n",
       "      <td>2</td>\n",
       "      <td>717630</td>\n",
       "      <td>0.000046</td>\n",
       "      <td>0.060606</td>\n",
       "    </tr>\n",
       "    <tr>\n",
       "      <th>24</th>\n",
       "      <td>13</td>\n",
       "      <td>Columbus</td>\n",
       "      <td>OH</td>\n",
       "      <td>23</td>\n",
       "      <td>0</td>\n",
       "      <td>905860</td>\n",
       "      <td>0.000025</td>\n",
       "      <td>0.000000</td>\n",
       "    </tr>\n",
       "  </tbody>\n",
       "</table>\n",
       "</div>"
      ],
      "text/plain": [
       "    index           city state  killings  mental_incident      pop       kpc  \\\n",
       "0      47      Charlotte    NC        11                4   876747  0.000013   \n",
       "1      28      San Diego    CA        17                6  1385394  0.000012   \n",
       "2      18         Austin    TX        20                7   963121  0.000021   \n",
       "3      58      Nashville    TN        10                3   689248  0.000015   \n",
       "4       4      Las Vegas    NV        42               12   643292  0.000065   \n",
       "5      80  San Francisco    CA         7                2   870014  0.000008   \n",
       "6       9   Jacksonville    FL        26                7   950463  0.000027   \n",
       "7      24       Portland    OR        19                4   652388  0.000029   \n",
       "8     118         Boston    MA         5                1   674272  0.000007   \n",
       "9      10  Oklahoma City    OK        25                5   682760  0.000037   \n",
       "10     54   Indianapolis    IN        10                2   887382  0.000011   \n",
       "11      7       New York    NY        32                6  8772978  0.000004   \n",
       "12     29     Fort Worth    TX        16                3   922592  0.000017   \n",
       "13      2        Houston    TX        60               11  2300027  0.000026   \n",
       "14     45       San Jose    CA        12                2  1010908  0.000012   \n",
       "15     42        Seattle    WA        12                2   738172  0.000016   \n",
       "16     44        El Paso    TX        12                2   678598  0.000018   \n",
       "17      0    Los Angeles    CA        86                9  3889834  0.000022   \n",
       "18      3    San Antonio    TX        49                5  1438227  0.000034   \n",
       "19     17   Philadelphia    PA        20                2  1601005  0.000012   \n",
       "20     14        Chicago    IL        23                2  2741730  0.000008   \n",
       "21      1        Phoenix    AZ        70                6  1611345  0.000043   \n",
       "22     41         Dallas    TX        12                1  1303234  0.000009   \n",
       "23      6         Denver    CO        33                2   717630  0.000046   \n",
       "24     13       Columbus    OH        23                0   905860  0.000025   \n",
       "\n",
       "         mhp  \n",
       "0   0.363636  \n",
       "1   0.352941  \n",
       "2   0.350000  \n",
       "3   0.300000  \n",
       "4   0.285714  \n",
       "5   0.285714  \n",
       "6   0.269231  \n",
       "7   0.210526  \n",
       "8   0.200000  \n",
       "9   0.200000  \n",
       "10  0.200000  \n",
       "11  0.187500  \n",
       "12  0.187500  \n",
       "13  0.183333  \n",
       "14  0.166667  \n",
       "15  0.166667  \n",
       "16  0.166667  \n",
       "17  0.104651  \n",
       "18  0.102041  \n",
       "19  0.100000  \n",
       "20  0.086957  \n",
       "21  0.085714  \n",
       "22  0.083333  \n",
       "23  0.060606  \n",
       "24  0.000000  "
      ]
     },
     "execution_count": 11,
     "metadata": {},
     "output_type": "execute_result"
    }
   ],
   "source": [
    "killings_wsj.head(25).sort_values('mhp', ascending = False).reset_index()"
   ]
  },
  {
   "cell_type": "code",
   "execution_count": 21,
   "metadata": {},
   "outputs": [
    {
     "data": {
      "application/vnd.plotly.v1+json": {
       "config": {
        "plotlyServerURL": "https://plot.ly"
       },
       "data": [
        {
         "hovertemplate": "<b>%{hovertext}</b><br><br>Population=%{x}<br>Police Killings Since 2015=%{y}<extra></extra>",
         "hovertext": [
          "Los Angeles",
          "Chicago",
          "Houston",
          "Phoenix",
          "Philadelphia",
          "San Antonio",
          "San Diego",
          "Dallas",
          "San Jose",
          "Austin",
          "Jacksonville",
          "Fort Worth",
          "Columbus",
          "Indianapolis",
          "Charlotte",
          "San Francisco",
          "Seattle",
          "Denver",
          "Nashville",
          "Oklahoma City",
          "El Paso",
          "Boston",
          "Portland",
          "Las Vegas",
          "Detroit",
          "Memphis",
          "Baltimore",
          "Milwaukee",
          "Albuquerque",
          "Fresno",
          "Tucson",
          "Sacramento",
          "Kansas City",
          "Mesa",
          "Atlanta",
          "Omaha",
          "Colorado Springs",
          "Raleigh",
          "Long Beach",
          "Virginia Beach",
          "Miami",
          "Oakland",
          "Minneapolis",
          "Tulsa",
          "Bakersfield",
          "Wichita",
          "Arlington",
          "Aurora",
          "Tampa",
          "New Orleans",
          "Cleveland",
          "Anaheim",
          "Stockton",
          "Henderson",
          "Corpus Christi",
          "Riverside",
          "St. Paul",
          "Newark",
          "Cincinnati",
          "Santa Ana",
          "Orlando",
          "Irvine",
          "Pittsburgh",
          "St. Louis",
          "Greensboro",
          "Jersey City",
          "Lincoln",
          "Plano",
          "Durham",
          "Buffalo",
          "Chandler",
          "Chula Vista",
          "Toledo",
          "Gilbert",
          "Madison",
          "North Las Vegas",
          "Fort Wayne",
          "Reno",
          "St. Petersburg",
          "Lubbock",
          "Irving",
          "Laredo",
          "Chesapeake",
          "Winston-Salem",
          "Glendale",
          "Garland",
          "Scottsdale",
          "Norfolk",
          "Fremont",
          "Spokane",
          "Santa Clarita",
          "Richmond",
          "Baton Rouge",
          "Hialeah",
          "San Bernardino",
          "Tacoma",
          "Modesto",
          "Huntsville",
          "Des Moines"
         ],
         "legendgroup": "",
         "marker": {
          "color": "#636efa",
          "symbol": "circle"
         },
         "mode": "markers",
         "name": "",
         "orientation": "v",
         "showlegend": false,
         "type": "scatter",
         "x": [
          3889834,
          2741730,
          2300027,
          1611345,
          1601005,
          1438227,
          1385394,
          1303234,
          1010908,
          963121,
          950463,
          922592,
          905860,
          887382,
          876747,
          870014,
          738172,
          717630,
          689248,
          682760,
          678598,
          674272,
          652388,
          643292,
          638176,
          631326,
          583132,
          576301,
          564648,
          542159,
          541859,
          523416,
          507932,
          505860,
          499586,
          491168,
          480213,
          467425,
          464759,
          459373,
          441889,
          439341,
          429014,
          412629,
          403401,
          397117,
          393985,
          386580,
          383980,
          383282,
          372032,
          347089,
          320745,
          319055,
          317852,
          314655,
          310942,
          310350,
          310113,
          309888,
          307603,
          306389,
          302777,
          300528,
          297808,
          291927,
          291383,
          286668,
          284400,
          277908,
          277556,
          276466,
          270041,
          269206,
          268846,
          264216,
          264169,
          264116,
          258658,
          257882,
          256873,
          255336,
          249679,
          249349,
          248797,
          245478,
          241933,
          237591,
          231673,
          228850,
          228487,
          226670,
          224480,
          222153,
          221784,
          219383,
          218459,
          215043,
          213699
         ],
         "xaxis": "x",
         "y": [
          130,
          50,
          90,
          104,
          30,
          68,
          27,
          20,
          24,
          36,
          40,
          24,
          40,
          24,
          22,
          20,
          18,
          47,
          15,
          41,
          20,
          10,
          25,
          67,
          25,
          21,
          28,
          21,
          59,
          28,
          45,
          23,
          35,
          29,
          33,
          15,
          24,
          7,
          22,
          9,
          36,
          13,
          11,
          34,
          34,
          16,
          13,
          20,
          15,
          10,
          15,
          14,
          16,
          11,
          13,
          8,
          10,
          8,
          7,
          13,
          25,
          1,
          6,
          37,
          5,
          3,
          7,
          4,
          7,
          4,
          9,
          4,
          9,
          4,
          3,
          6,
          5,
          11,
          9,
          5,
          7,
          7,
          3,
          2,
          17,
          7,
          8,
          8,
          8,
          21,
          4,
          8,
          13,
          3,
          21,
          14,
          13,
          10,
          4
         ],
         "yaxis": "y"
        },
        {
         "hovertemplate": "<b>OLS trendline</b><br>killings = 3.09596e-05 * pop + 3.76927<br>R<sup>2</sup>=0.629707<br><br>Population=%{x}<br>Police Killings Since 2015=%{y} <b>(trend)</b><extra></extra>",
         "legendgroup": "",
         "marker": {
          "color": "#636efa",
          "symbol": "circle"
         },
         "mode": "lines",
         "name": "",
         "showlegend": false,
         "type": "scatter",
         "x": [
          213699,
          215043,
          218459,
          219383,
          221784,
          222153,
          224480,
          226670,
          228487,
          228850,
          231673,
          237591,
          241933,
          245478,
          248797,
          249349,
          249679,
          255336,
          256873,
          257882,
          258658,
          264116,
          264169,
          264216,
          268846,
          269206,
          270041,
          276466,
          277556,
          277908,
          284400,
          286668,
          291383,
          291927,
          297808,
          300528,
          302777,
          306389,
          307603,
          309888,
          310113,
          310350,
          310942,
          314655,
          317852,
          319055,
          320745,
          347089,
          372032,
          383282,
          383980,
          386580,
          393985,
          397117,
          403401,
          412629,
          429014,
          439341,
          441889,
          459373,
          464759,
          467425,
          480213,
          491168,
          499586,
          505860,
          507932,
          523416,
          541859,
          542159,
          564648,
          576301,
          583132,
          631326,
          638176,
          643292,
          652388,
          674272,
          678598,
          682760,
          689248,
          717630,
          738172,
          870014,
          876747,
          887382,
          905860,
          922592,
          950463,
          963121,
          1010908,
          1303234,
          1385394,
          1438227,
          1601005,
          1611345,
          2300027,
          2741730,
          3889834
         ],
         "xaxis": "x",
         "y": [
          10.385304193374893,
          10.426913897182231,
          10.532671894359215,
          10.56127856572676,
          10.635612567840909,
          10.6470366606273,
          10.71907965226396,
          10.786881178557168,
          10.843134773659797,
          10.854373108839905,
          10.941772062595941,
          11.124990981592834,
          11.259417569339456,
          11.369169355051518,
          11.471924270926932,
          11.489013970704946,
          11.499230639050497,
          11.67436910217409,
          11.721954008983523,
          11.753192246440074,
          11.777216896852643,
          11.946194399367858,
          11.947835258223357,
          11.949290359472572,
          12.092633312320766,
          12.103778768697731,
          12.129630035572083,
          12.328545472299869,
          12.362291437441236,
          12.373189217009825,
          12.574178947007768,
          12.64439532218265,
          12.790369841119851,
          12.807211864089487,
          12.989285277847637,
          13.07349539269582,
          13.143123535450808,
          13.254949614433027,
          13.29253457010424,
          13.363277258496922,
          13.370243168732525,
          13.377580594180694,
          13.395908678000593,
          13.510861676688574,
          13.609839521236236,
          13.647083921295929,
          13.699405647065571,
          14.515005377051066,
          15.287230705969538,
          15.635526217749709,
          15.657136019280602,
          15.73763098200313,
          15.9668868277571,
          16.0638522982367,
          16.25840243121684,
          16.544097629679722,
          17.051370692836887,
          17.37109049285056,
          17.449975556318638,
          17.991273221026592,
          18.158021632266415,
          18.24055992865805,
          18.636471306848705,
          18.97563373631997,
          19.23625165793468,
          19.430492194904353,
          19.494640488273998,
          19.9740189508877,
          20.54500687299985,
          20.554294753313986,
          21.25054522126281,
          21.611317452264974,
          21.822802487017892,
          23.314869499883095,
          23.52694276705591,
          23.68533208601301,
          23.96694061713767,
          24.64446052645298,
          24.77839176058285,
          24.907245620140987,
          25.108111511734744,
          25.98680690865428,
          26.62277903336435,
          30.70455475461957,
          30.91300574846987,
          31.242261105606058,
          31.814332613754857,
          32.332348658475375,
          33.19522369925983,
          33.587110329314356,
          35.06657678455338,
          44.116873120255605,
          46.66051394228751,
          48.296202544410335,
          53.335744483659454,
          53.65586675848674,
          74.97718672682375,
          88.65213538814255,
          124.19697718875241
         ],
         "yaxis": "y"
        },
        {
         "hovertemplate": "<b>Austin, Texas</b><br>Population: %{x}<br>Police Killings: %{y}",
         "marker": {
          "size": 15,
          "symbol": "cross"
         },
         "mode": "markers",
         "name": "Austin",
         "type": "scatter",
         "x": [
          963121
         ],
         "y": [
          36
         ]
        },
        {
         "hovertemplate": "<b>New York, NY</b><br>Population: %{x}<br>Police Killings: %{y}",
         "marker": {
          "color": "red",
          "symbol": "circle"
         },
         "mode": "markers",
         "name": "New York",
         "showlegend": false,
         "type": "scatter",
         "x": [
          8772978
         ],
         "y": [
          43
         ]
        }
       ],
       "layout": {
        "legend": {
         "title": {},
         "tracegroupgap": 0,
         "x": 0.05,
         "xanchor": "left"
        },
        "margin": {
         "t": 60
        },
        "template": {
         "data": {
          "bar": [
           {
            "error_x": {
             "color": "#2a3f5f"
            },
            "error_y": {
             "color": "#2a3f5f"
            },
            "marker": {
             "line": {
              "color": "white",
              "width": 0.5
             },
             "pattern": {
              "fillmode": "overlay",
              "size": 10,
              "solidity": 0.2
             }
            },
            "type": "bar"
           }
          ],
          "barpolar": [
           {
            "marker": {
             "line": {
              "color": "white",
              "width": 0.5
             },
             "pattern": {
              "fillmode": "overlay",
              "size": 10,
              "solidity": 0.2
             }
            },
            "type": "barpolar"
           }
          ],
          "carpet": [
           {
            "aaxis": {
             "endlinecolor": "#2a3f5f",
             "gridcolor": "#C8D4E3",
             "linecolor": "#C8D4E3",
             "minorgridcolor": "#C8D4E3",
             "startlinecolor": "#2a3f5f"
            },
            "baxis": {
             "endlinecolor": "#2a3f5f",
             "gridcolor": "#C8D4E3",
             "linecolor": "#C8D4E3",
             "minorgridcolor": "#C8D4E3",
             "startlinecolor": "#2a3f5f"
            },
            "type": "carpet"
           }
          ],
          "choropleth": [
           {
            "colorbar": {
             "outlinewidth": 0,
             "ticks": ""
            },
            "type": "choropleth"
           }
          ],
          "contour": [
           {
            "colorbar": {
             "outlinewidth": 0,
             "ticks": ""
            },
            "colorscale": [
             [
              0,
              "#0d0887"
             ],
             [
              0.1111111111111111,
              "#46039f"
             ],
             [
              0.2222222222222222,
              "#7201a8"
             ],
             [
              0.3333333333333333,
              "#9c179e"
             ],
             [
              0.4444444444444444,
              "#bd3786"
             ],
             [
              0.5555555555555556,
              "#d8576b"
             ],
             [
              0.6666666666666666,
              "#ed7953"
             ],
             [
              0.7777777777777778,
              "#fb9f3a"
             ],
             [
              0.8888888888888888,
              "#fdca26"
             ],
             [
              1,
              "#f0f921"
             ]
            ],
            "type": "contour"
           }
          ],
          "contourcarpet": [
           {
            "colorbar": {
             "outlinewidth": 0,
             "ticks": ""
            },
            "type": "contourcarpet"
           }
          ],
          "heatmap": [
           {
            "colorbar": {
             "outlinewidth": 0,
             "ticks": ""
            },
            "colorscale": [
             [
              0,
              "#0d0887"
             ],
             [
              0.1111111111111111,
              "#46039f"
             ],
             [
              0.2222222222222222,
              "#7201a8"
             ],
             [
              0.3333333333333333,
              "#9c179e"
             ],
             [
              0.4444444444444444,
              "#bd3786"
             ],
             [
              0.5555555555555556,
              "#d8576b"
             ],
             [
              0.6666666666666666,
              "#ed7953"
             ],
             [
              0.7777777777777778,
              "#fb9f3a"
             ],
             [
              0.8888888888888888,
              "#fdca26"
             ],
             [
              1,
              "#f0f921"
             ]
            ],
            "type": "heatmap"
           }
          ],
          "heatmapgl": [
           {
            "colorbar": {
             "outlinewidth": 0,
             "ticks": ""
            },
            "colorscale": [
             [
              0,
              "#0d0887"
             ],
             [
              0.1111111111111111,
              "#46039f"
             ],
             [
              0.2222222222222222,
              "#7201a8"
             ],
             [
              0.3333333333333333,
              "#9c179e"
             ],
             [
              0.4444444444444444,
              "#bd3786"
             ],
             [
              0.5555555555555556,
              "#d8576b"
             ],
             [
              0.6666666666666666,
              "#ed7953"
             ],
             [
              0.7777777777777778,
              "#fb9f3a"
             ],
             [
              0.8888888888888888,
              "#fdca26"
             ],
             [
              1,
              "#f0f921"
             ]
            ],
            "type": "heatmapgl"
           }
          ],
          "histogram": [
           {
            "marker": {
             "pattern": {
              "fillmode": "overlay",
              "size": 10,
              "solidity": 0.2
             }
            },
            "type": "histogram"
           }
          ],
          "histogram2d": [
           {
            "colorbar": {
             "outlinewidth": 0,
             "ticks": ""
            },
            "colorscale": [
             [
              0,
              "#0d0887"
             ],
             [
              0.1111111111111111,
              "#46039f"
             ],
             [
              0.2222222222222222,
              "#7201a8"
             ],
             [
              0.3333333333333333,
              "#9c179e"
             ],
             [
              0.4444444444444444,
              "#bd3786"
             ],
             [
              0.5555555555555556,
              "#d8576b"
             ],
             [
              0.6666666666666666,
              "#ed7953"
             ],
             [
              0.7777777777777778,
              "#fb9f3a"
             ],
             [
              0.8888888888888888,
              "#fdca26"
             ],
             [
              1,
              "#f0f921"
             ]
            ],
            "type": "histogram2d"
           }
          ],
          "histogram2dcontour": [
           {
            "colorbar": {
             "outlinewidth": 0,
             "ticks": ""
            },
            "colorscale": [
             [
              0,
              "#0d0887"
             ],
             [
              0.1111111111111111,
              "#46039f"
             ],
             [
              0.2222222222222222,
              "#7201a8"
             ],
             [
              0.3333333333333333,
              "#9c179e"
             ],
             [
              0.4444444444444444,
              "#bd3786"
             ],
             [
              0.5555555555555556,
              "#d8576b"
             ],
             [
              0.6666666666666666,
              "#ed7953"
             ],
             [
              0.7777777777777778,
              "#fb9f3a"
             ],
             [
              0.8888888888888888,
              "#fdca26"
             ],
             [
              1,
              "#f0f921"
             ]
            ],
            "type": "histogram2dcontour"
           }
          ],
          "mesh3d": [
           {
            "colorbar": {
             "outlinewidth": 0,
             "ticks": ""
            },
            "type": "mesh3d"
           }
          ],
          "parcoords": [
           {
            "line": {
             "colorbar": {
              "outlinewidth": 0,
              "ticks": ""
             }
            },
            "type": "parcoords"
           }
          ],
          "pie": [
           {
            "automargin": true,
            "type": "pie"
           }
          ],
          "scatter": [
           {
            "fillpattern": {
             "fillmode": "overlay",
             "size": 10,
             "solidity": 0.2
            },
            "type": "scatter"
           }
          ],
          "scatter3d": [
           {
            "line": {
             "colorbar": {
              "outlinewidth": 0,
              "ticks": ""
             }
            },
            "marker": {
             "colorbar": {
              "outlinewidth": 0,
              "ticks": ""
             }
            },
            "type": "scatter3d"
           }
          ],
          "scattercarpet": [
           {
            "marker": {
             "colorbar": {
              "outlinewidth": 0,
              "ticks": ""
             }
            },
            "type": "scattercarpet"
           }
          ],
          "scattergeo": [
           {
            "marker": {
             "colorbar": {
              "outlinewidth": 0,
              "ticks": ""
             }
            },
            "type": "scattergeo"
           }
          ],
          "scattergl": [
           {
            "marker": {
             "colorbar": {
              "outlinewidth": 0,
              "ticks": ""
             }
            },
            "type": "scattergl"
           }
          ],
          "scattermapbox": [
           {
            "marker": {
             "colorbar": {
              "outlinewidth": 0,
              "ticks": ""
             }
            },
            "type": "scattermapbox"
           }
          ],
          "scatterpolar": [
           {
            "marker": {
             "colorbar": {
              "outlinewidth": 0,
              "ticks": ""
             }
            },
            "type": "scatterpolar"
           }
          ],
          "scatterpolargl": [
           {
            "marker": {
             "colorbar": {
              "outlinewidth": 0,
              "ticks": ""
             }
            },
            "type": "scatterpolargl"
           }
          ],
          "scatterternary": [
           {
            "marker": {
             "colorbar": {
              "outlinewidth": 0,
              "ticks": ""
             }
            },
            "type": "scatterternary"
           }
          ],
          "surface": [
           {
            "colorbar": {
             "outlinewidth": 0,
             "ticks": ""
            },
            "colorscale": [
             [
              0,
              "#0d0887"
             ],
             [
              0.1111111111111111,
              "#46039f"
             ],
             [
              0.2222222222222222,
              "#7201a8"
             ],
             [
              0.3333333333333333,
              "#9c179e"
             ],
             [
              0.4444444444444444,
              "#bd3786"
             ],
             [
              0.5555555555555556,
              "#d8576b"
             ],
             [
              0.6666666666666666,
              "#ed7953"
             ],
             [
              0.7777777777777778,
              "#fb9f3a"
             ],
             [
              0.8888888888888888,
              "#fdca26"
             ],
             [
              1,
              "#f0f921"
             ]
            ],
            "type": "surface"
           }
          ],
          "table": [
           {
            "cells": {
             "fill": {
              "color": "#EBF0F8"
             },
             "line": {
              "color": "white"
             }
            },
            "header": {
             "fill": {
              "color": "#C8D4E3"
             },
             "line": {
              "color": "white"
             }
            },
            "type": "table"
           }
          ]
         },
         "layout": {
          "annotationdefaults": {
           "arrowcolor": "#2a3f5f",
           "arrowhead": 0,
           "arrowwidth": 1
          },
          "autotypenumbers": "strict",
          "coloraxis": {
           "colorbar": {
            "outlinewidth": 0,
            "ticks": ""
           }
          },
          "colorscale": {
           "diverging": [
            [
             0,
             "#8e0152"
            ],
            [
             0.1,
             "#c51b7d"
            ],
            [
             0.2,
             "#de77ae"
            ],
            [
             0.3,
             "#f1b6da"
            ],
            [
             0.4,
             "#fde0ef"
            ],
            [
             0.5,
             "#f7f7f7"
            ],
            [
             0.6,
             "#e6f5d0"
            ],
            [
             0.7,
             "#b8e186"
            ],
            [
             0.8,
             "#7fbc41"
            ],
            [
             0.9,
             "#4d9221"
            ],
            [
             1,
             "#276419"
            ]
           ],
           "sequential": [
            [
             0,
             "#0d0887"
            ],
            [
             0.1111111111111111,
             "#46039f"
            ],
            [
             0.2222222222222222,
             "#7201a8"
            ],
            [
             0.3333333333333333,
             "#9c179e"
            ],
            [
             0.4444444444444444,
             "#bd3786"
            ],
            [
             0.5555555555555556,
             "#d8576b"
            ],
            [
             0.6666666666666666,
             "#ed7953"
            ],
            [
             0.7777777777777778,
             "#fb9f3a"
            ],
            [
             0.8888888888888888,
             "#fdca26"
            ],
            [
             1,
             "#f0f921"
            ]
           ],
           "sequentialminus": [
            [
             0,
             "#0d0887"
            ],
            [
             0.1111111111111111,
             "#46039f"
            ],
            [
             0.2222222222222222,
             "#7201a8"
            ],
            [
             0.3333333333333333,
             "#9c179e"
            ],
            [
             0.4444444444444444,
             "#bd3786"
            ],
            [
             0.5555555555555556,
             "#d8576b"
            ],
            [
             0.6666666666666666,
             "#ed7953"
            ],
            [
             0.7777777777777778,
             "#fb9f3a"
            ],
            [
             0.8888888888888888,
             "#fdca26"
            ],
            [
             1,
             "#f0f921"
            ]
           ]
          },
          "colorway": [
           "#636efa",
           "#EF553B",
           "#00cc96",
           "#ab63fa",
           "#FFA15A",
           "#19d3f3",
           "#FF6692",
           "#B6E880",
           "#FF97FF",
           "#FECB52"
          ],
          "font": {
           "color": "#2a3f5f"
          },
          "geo": {
           "bgcolor": "white",
           "lakecolor": "white",
           "landcolor": "white",
           "showlakes": true,
           "showland": true,
           "subunitcolor": "#C8D4E3"
          },
          "hoverlabel": {
           "align": "left"
          },
          "hovermode": "closest",
          "mapbox": {
           "style": "light"
          },
          "paper_bgcolor": "white",
          "plot_bgcolor": "white",
          "polar": {
           "angularaxis": {
            "gridcolor": "#EBF0F8",
            "linecolor": "#EBF0F8",
            "ticks": ""
           },
           "bgcolor": "white",
           "radialaxis": {
            "gridcolor": "#EBF0F8",
            "linecolor": "#EBF0F8",
            "ticks": ""
           }
          },
          "scene": {
           "xaxis": {
            "backgroundcolor": "white",
            "gridcolor": "#DFE8F3",
            "gridwidth": 2,
            "linecolor": "#EBF0F8",
            "showbackground": true,
            "ticks": "",
            "zerolinecolor": "#EBF0F8"
           },
           "yaxis": {
            "backgroundcolor": "white",
            "gridcolor": "#DFE8F3",
            "gridwidth": 2,
            "linecolor": "#EBF0F8",
            "showbackground": true,
            "ticks": "",
            "zerolinecolor": "#EBF0F8"
           },
           "zaxis": {
            "backgroundcolor": "white",
            "gridcolor": "#DFE8F3",
            "gridwidth": 2,
            "linecolor": "#EBF0F8",
            "showbackground": true,
            "ticks": "",
            "zerolinecolor": "#EBF0F8"
           }
          },
          "shapedefaults": {
           "line": {
            "color": "#2a3f5f"
           }
          },
          "ternary": {
           "aaxis": {
            "gridcolor": "#DFE8F3",
            "linecolor": "#A2B1C6",
            "ticks": ""
           },
           "baxis": {
            "gridcolor": "#DFE8F3",
            "linecolor": "#A2B1C6",
            "ticks": ""
           },
           "bgcolor": "white",
           "caxis": {
            "gridcolor": "#DFE8F3",
            "linecolor": "#A2B1C6",
            "ticks": ""
           }
          },
          "title": {
           "x": 0.05
          },
          "xaxis": {
           "automargin": true,
           "gridcolor": "#EBF0F8",
           "linecolor": "#EBF0F8",
           "ticks": "",
           "title": {
            "standoff": 15
           },
           "zerolinecolor": "#EBF0F8",
           "zerolinewidth": 2
          },
          "yaxis": {
           "automargin": true,
           "gridcolor": "#EBF0F8",
           "linecolor": "#EBF0F8",
           "ticks": "",
           "title": {
            "standoff": 15
           },
           "zerolinecolor": "#EBF0F8",
           "zerolinewidth": 2
          }
         }
        },
        "xaxis": {
         "anchor": "y",
         "domain": [
          0,
          1
         ],
         "title": {
          "text": "Population"
         },
         "type": "log"
        },
        "yaxis": {
         "anchor": "x",
         "domain": [
          0,
          1
         ],
         "title": {
          "text": "Police Killings Since 2015"
         }
        }
       }
      }
     },
     "metadata": {},
     "output_type": "display_data"
    }
   ],
   "source": [
    "fig_kills = px.scatter(killings_all.drop(index=9), x='pop',y='killings',hover_name='city', log_x=True, trendline='ols', color_discrete_map={'963121':'r'}, labels={'pop':'Population','killings':'Police Killings Since 2015'})\n",
    "fig_kills.add_trace(go.Scatter(x= [963121], y = [36], mode='markers', marker_size=15, name='Austin', marker_symbol='cross', hovertemplate='<b>Austin, Texas</b><br>Population: %{x}<br>Police Killings: %{y}'))\n",
    "fig_kills.add_trace(go.Scatter(x= [8772978], y = [43], mode='markers', name='New York', marker_symbol='circle', hovertemplate='<b>New York, NY</b><br>Population: %{x}<br>Police Killings: %{y}', marker_color='red', showlegend=False))\n",
    "fig_kills.update_layout(legend=dict(title=None, xanchor='left', x=.05))\n",
    "fig_kills\n",
    "# fig_kills.write_html('charts/cityscatter.html', config= {'displaylogo': False})"
   ]
  },
  {
   "cell_type": "code",
   "execution_count": 14,
   "metadata": {},
   "outputs": [
    {
     "data": {
      "text/html": [
       "<div>\n",
       "<style scoped>\n",
       "    .dataframe tbody tr th:only-of-type {\n",
       "        vertical-align: middle;\n",
       "    }\n",
       "\n",
       "    .dataframe tbody tr th {\n",
       "        vertical-align: top;\n",
       "    }\n",
       "\n",
       "    .dataframe thead th {\n",
       "        text-align: right;\n",
       "    }\n",
       "</style>\n",
       "<table border=\"1\" class=\"dataframe\">\n",
       "  <thead>\n",
       "    <tr style=\"text-align: right;\">\n",
       "      <th></th>\n",
       "      <th>city</th>\n",
       "      <th>state</th>\n",
       "      <th>killings</th>\n",
       "      <th>mental_incident</th>\n",
       "      <th>pop</th>\n",
       "      <th>kpc</th>\n",
       "      <th>mhp</th>\n",
       "    </tr>\n",
       "  </thead>\n",
       "  <tbody>\n",
       "    <tr>\n",
       "      <th>9</th>\n",
       "      <td>New York</td>\n",
       "      <td>NY</td>\n",
       "      <td>43</td>\n",
       "      <td>10</td>\n",
       "      <td>8772978</td>\n",
       "      <td>0.000005</td>\n",
       "      <td>0.232558</td>\n",
       "    </tr>\n",
       "  </tbody>\n",
       "</table>\n",
       "</div>"
      ],
      "text/plain": [
       "       city state  killings  mental_incident      pop       kpc       mhp\n",
       "9  New York    NY        43               10  8772978  0.000005  0.232558"
      ]
     },
     "execution_count": 14,
     "metadata": {},
     "output_type": "execute_result"
    }
   ],
   "source": [
    "killings_all.loc[killings_all.city=='New York']\n",
    "killings_all.drop()"
   ]
  }
 ],
 "metadata": {
  "kernelspec": {
   "display_name": "police-shootings",
   "language": "python",
   "name": "python3"
  },
  "language_info": {
   "codemirror_mode": {
    "name": "ipython",
    "version": 3
   },
   "file_extension": ".py",
   "mimetype": "text/x-python",
   "name": "python",
   "nbconvert_exporter": "python",
   "pygments_lexer": "ipython3",
   "version": "3.9.15"
  },
  "orig_nbformat": 4,
  "vscode": {
   "interpreter": {
    "hash": "be799d79aae8a8a0cc9ee565fe4b77617e6f11a0afc539cd3b3d020bb09c3dc5"
   }
  }
 },
 "nbformat": 4,
 "nbformat_minor": 2
}
